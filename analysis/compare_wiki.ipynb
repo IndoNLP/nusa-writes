{
 "cells": [
  {
   "cell_type": "code",
   "execution_count": 1,
   "metadata": {},
   "outputs": [],
   "source": [
    "import os, sys\n",
    "sys.path.append('../')\n",
    "\n",
    "import datasets\n",
    "import pandas as pd\n",
    "import glob\n",
    "import string\n",
    "from collections import Counter\n",
    "from panlex_utils import load_panlex_resources, extract_monolingual_lexicon\n",
    "from tqdm import tqdm"
   ]
  },
  {
   "cell_type": "code",
   "execution_count": 6,
   "metadata": {
    "scrolled": true,
    "tags": []
   },
   "outputs": [
    {
     "name": "stdout",
     "output_type": "stream",
     "text": [
      "processing bug bug\n"
     ]
    },
    {
     "name": "stderr",
     "output_type": "stream",
     "text": [
      "Found cached dataset wikipedia (/home/samuel/.cache/huggingface/datasets/olm___wikipedia/20221220.bug-date=20221220,language=bug/2.0.0/dbfec0358f063ec7ae9e247d6559e2e505fbce7463e666024718863cbf199ec6)\n"
     ]
    },
    {
     "data": {
      "application/vnd.jupyter.widget-view+json": {
       "model_id": "0bb6106a3b3e48d69f3227a714a2d564",
       "version_major": 2,
       "version_minor": 0
      },
      "text/plain": [
       "  0%|          | 0/1 [00:00<?, ?it/s]"
      ]
     },
     "metadata": {},
     "output_type": "display_data"
    },
    {
     "name": "stdout",
     "output_type": "stream",
     "text": [
      "processing mad mad\n"
     ]
    },
    {
     "name": "stderr",
     "output_type": "stream",
     "text": [
      "Found cached dataset wikipedia (/home/samuel/.cache/huggingface/datasets/olm___wikipedia/20221220.mad-date=20221220,language=mad/2.0.0/dbfec0358f063ec7ae9e247d6559e2e505fbce7463e666024718863cbf199ec6)\n"
     ]
    },
    {
     "data": {
      "application/vnd.jupyter.widget-view+json": {
       "model_id": "463f741d72da48b8b1830943c029fd20",
       "version_major": 2,
       "version_minor": 0
      },
      "text/plain": [
       "  0%|          | 0/1 [00:00<?, ?it/s]"
      ]
     },
     "metadata": {},
     "output_type": "display_data"
    },
    {
     "name": "stdout",
     "output_type": "stream",
     "text": [
      "processing jv jav\n"
     ]
    },
    {
     "name": "stderr",
     "output_type": "stream",
     "text": [
      "Found cached dataset wikipedia (/home/samuel/.cache/huggingface/datasets/olm___wikipedia/20221220.jv-date=20221220,language=jv/2.0.0/dbfec0358f063ec7ae9e247d6559e2e505fbce7463e666024718863cbf199ec6)\n"
     ]
    },
    {
     "data": {
      "application/vnd.jupyter.widget-view+json": {
       "model_id": "853abba0ddfb4267a976b59ee38a2699",
       "version_major": 2,
       "version_minor": 0
      },
      "text/plain": [
       "  0%|          | 0/1 [00:00<?, ?it/s]"
      ]
     },
     "metadata": {},
     "output_type": "display_data"
    },
    {
     "name": "stdout",
     "output_type": "stream",
     "text": [
      "processing min min\n"
     ]
    },
    {
     "name": "stderr",
     "output_type": "stream",
     "text": [
      "Found cached dataset wikipedia (/home/samuel/.cache/huggingface/datasets/olm___wikipedia/20221220.min-date=20221220,language=min/2.0.0/dbfec0358f063ec7ae9e247d6559e2e505fbce7463e666024718863cbf199ec6)\n"
     ]
    },
    {
     "data": {
      "application/vnd.jupyter.widget-view+json": {
       "model_id": "b99f88ad83c34482971412c198d99221",
       "version_major": 2,
       "version_minor": 0
      },
      "text/plain": [
       "  0%|          | 0/1 [00:00<?, ?it/s]"
      ]
     },
     "metadata": {},
     "output_type": "display_data"
    },
    {
     "name": "stdout",
     "output_type": "stream",
     "text": [
      "processing su sun\n"
     ]
    },
    {
     "name": "stderr",
     "output_type": "stream",
     "text": [
      "Found cached dataset wikipedia (/home/samuel/.cache/huggingface/datasets/olm___wikipedia/20221220.su-date=20221220,language=su/2.0.0/dbfec0358f063ec7ae9e247d6559e2e505fbce7463e666024718863cbf199ec6)\n"
     ]
    },
    {
     "data": {
      "application/vnd.jupyter.widget-view+json": {
       "model_id": "45089c8d396244e7a660288f0c8f9a85",
       "version_major": 2,
       "version_minor": 0
      },
      "text/plain": [
       "  0%|          | 0/1 [00:00<?, ?it/s]"
      ]
     },
     "metadata": {},
     "output_type": "display_data"
    },
    {
     "name": "stdout",
     "output_type": "stream",
     "text": [
      "processing map-bms map-bms\n"
     ]
    },
    {
     "name": "stderr",
     "output_type": "stream",
     "text": [
      "Found cached dataset wikipedia (/home/samuel/.cache/huggingface/datasets/olm___wikipedia/20221220.map-bms-date=20221220,language=map-bms/2.0.0/dbfec0358f063ec7ae9e247d6559e2e505fbce7463e666024718863cbf199ec6)\n"
     ]
    },
    {
     "data": {
      "application/vnd.jupyter.widget-view+json": {
       "model_id": "8f260fec90f24b089eead09db91a3ab0",
       "version_major": 2,
       "version_minor": 0
      },
      "text/plain": [
       "  0%|          | 0/1 [00:00<?, ?it/s]"
      ]
     },
     "metadata": {},
     "output_type": "display_data"
    },
    {
     "name": "stdout",
     "output_type": "stream",
     "text": [
      "processing ace ace\n"
     ]
    },
    {
     "name": "stderr",
     "output_type": "stream",
     "text": [
      "Found cached dataset wikipedia (/home/samuel/.cache/huggingface/datasets/olm___wikipedia/20221220.ace-date=20221220,language=ace/2.0.0/dbfec0358f063ec7ae9e247d6559e2e505fbce7463e666024718863cbf199ec6)\n"
     ]
    },
    {
     "data": {
      "application/vnd.jupyter.widget-view+json": {
       "model_id": "4a16f28bfa9e4285aaa2d6175690558e",
       "version_major": 2,
       "version_minor": 0
      },
      "text/plain": [
       "  0%|          | 0/1 [00:00<?, ?it/s]"
      ]
     },
     "metadata": {},
     "output_type": "display_data"
    },
    {
     "name": "stdout",
     "output_type": "stream",
     "text": [
      "processing gor gor\n"
     ]
    },
    {
     "name": "stderr",
     "output_type": "stream",
     "text": [
      "Found cached dataset wikipedia (/home/samuel/.cache/huggingface/datasets/olm___wikipedia/20221220.gor-date=20221220,language=gor/2.0.0/dbfec0358f063ec7ae9e247d6559e2e505fbce7463e666024718863cbf199ec6)\n"
     ]
    },
    {
     "data": {
      "application/vnd.jupyter.widget-view+json": {
       "model_id": "e466f1479782441ba3df88e3f0c6aace",
       "version_major": 2,
       "version_minor": 0
      },
      "text/plain": [
       "  0%|          | 0/1 [00:00<?, ?it/s]"
      ]
     },
     "metadata": {},
     "output_type": "display_data"
    },
    {
     "name": "stdout",
     "output_type": "stream",
     "text": [
      "processing ban ban\n"
     ]
    },
    {
     "name": "stderr",
     "output_type": "stream",
     "text": [
      "Found cached dataset wikipedia (/home/samuel/.cache/huggingface/datasets/olm___wikipedia/20221220.ban-date=20221220,language=ban/2.0.0/dbfec0358f063ec7ae9e247d6559e2e505fbce7463e666024718863cbf199ec6)\n"
     ]
    },
    {
     "data": {
      "application/vnd.jupyter.widget-view+json": {
       "model_id": "44c8442922e74724a727b330d8ba5c97",
       "version_major": 2,
       "version_minor": 0
      },
      "text/plain": [
       "  0%|          | 0/1 [00:00<?, ?it/s]"
      ]
     },
     "metadata": {},
     "output_type": "display_data"
    },
    {
     "name": "stdout",
     "output_type": "stream",
     "text": [
      "processing bjn bjn\n"
     ]
    },
    {
     "name": "stderr",
     "output_type": "stream",
     "text": [
      "Found cached dataset wikipedia (/home/samuel/.cache/huggingface/datasets/olm___wikipedia/20221220.bjn-date=20221220,language=bjn/2.0.0/dbfec0358f063ec7ae9e247d6559e2e505fbce7463e666024718863cbf199ec6)\n"
     ]
    },
    {
     "data": {
      "application/vnd.jupyter.widget-view+json": {
       "model_id": "32d4a6e36380448abe357140fdf5ee97",
       "version_major": 2,
       "version_minor": 0
      },
      "text/plain": [
       "  0%|          | 0/1 [00:00<?, ?it/s]"
      ]
     },
     "metadata": {},
     "output_type": "display_data"
    },
    {
     "name": "stdout",
     "output_type": "stream",
     "text": [
      "processing nia nia\n"
     ]
    },
    {
     "name": "stderr",
     "output_type": "stream",
     "text": [
      "Found cached dataset wikipedia (/home/samuel/.cache/huggingface/datasets/olm___wikipedia/20221220.nia-date=20221220,language=nia/2.0.0/dbfec0358f063ec7ae9e247d6559e2e505fbce7463e666024718863cbf199ec6)\n"
     ]
    },
    {
     "data": {
      "application/vnd.jupyter.widget-view+json": {
       "model_id": "a6bc481f315d4c5289bf79b979bcea43",
       "version_major": 2,
       "version_minor": 0
      },
      "text/plain": [
       "  0%|          | 0/1 [00:00<?, ?it/s]"
      ]
     },
     "metadata": {},
     "output_type": "display_data"
    },
    {
     "name": "stdout",
     "output_type": "stream",
     "text": [
      "processing id id\n"
     ]
    },
    {
     "name": "stderr",
     "output_type": "stream",
     "text": [
      "Found cached dataset wikipedia (/home/samuel/.cache/huggingface/datasets/olm___wikipedia/20221220.id-date=20221220,language=id/2.0.0/dbfec0358f063ec7ae9e247d6559e2e505fbce7463e666024718863cbf199ec6)\n"
     ]
    },
    {
     "data": {
      "application/vnd.jupyter.widget-view+json": {
       "model_id": "751d5b8f3ac74223b53e78ea9106966e",
       "version_major": 2,
       "version_minor": 0
      },
      "text/plain": [
       "  0%|          | 0/1 [00:00<?, ?it/s]"
      ]
     },
     "metadata": {},
     "output_type": "display_data"
    }
   ],
   "source": [
    "# Load Wiki\n",
    "wiki_dsets = {}\n",
    "for lang in ['bug', 'mad', 'jv', 'min', 'su', 'map-bms', 'ace', 'gor', 'ban', 'bjn', 'nia', 'id']:\n",
    "    if lang == 'su':\n",
    "        iso_lang = 'sun'\n",
    "    elif lang == 'jv':\n",
    "        iso_lang = 'jav'\n",
    "    else:\n",
    "        iso_lang = lang\n",
    "    print(f'processing {lang} {iso_lang}')\n",
    "    wiki_dsets[iso_lang] = datasets.load_dataset('olm/wikipedia', language=lang, date=\"20221220\")['train'].to_pandas()"
   ]
  },
  {
   "cell_type": "code",
   "execution_count": 9,
   "metadata": {},
   "outputs": [],
   "source": [
    "# Load Paragraph\n",
    "paragraph_dsets = {}\n",
    "for path in glob.glob('../data/nusa_alinea-paragraph-*.csv'):\n",
    "    _, _, lang, _ = path[:-4].split('/')[-1].split('-')\n",
    "    if lang not in ['bug', 'mad', 'jav','min','sun']:\n",
    "        continue\n",
    "\n",
    "    if lang not in paragraph_dsets:\n",
    "        paragraph_dsets[lang] = []\n",
    "    paragraph_dsets[lang].append(pd.read_csv(path))\n",
    "\n",
    "for lang, dfs in paragraph_dsets.items():\n",
    "    paragraph_dsets[lang] = pd.concat(dfs)"
   ]
  },
  {
   "cell_type": "code",
   "execution_count": 10,
   "metadata": {},
   "outputs": [],
   "source": [
    "# Load MT\n",
    "mt_dsets = {}\n",
    "for path in glob.glob('../data/nusa_kalimat-mt-*.csv'):\n",
    "    _, _, lang, _ = path[:-4].split('/')[-1].split('-')\n",
    "    if lang not in ['bug', 'mad', 'jav','min','sun']:\n",
    "        continue\n",
    "\n",
    "    if lang not in mt_dsets:\n",
    "        mt_dsets[lang] = []\n",
    "    mt_dsets[lang].append(pd.read_csv(path))\n",
    "\n",
    "for lang, dfs in mt_dsets.items():\n",
    "    mt_dsets[lang] = pd.concat(dfs)\n",
    "    mt_dsets[lang]['text'] = mt_dsets[lang]['tgt_text']"
   ]
  },
  {
   "cell_type": "code",
   "execution_count": 11,
   "metadata": {},
   "outputs": [
    {
     "name": "stdout",
     "output_type": "stream",
     "text": [
      "CPU times: user 27.4 s, sys: 415 ms, total: 27.8 s\n",
      "Wall time: 27.8 s\n"
     ]
    }
   ],
   "source": [
    "%%time\n",
    "\n",
    "# Chunk & Count Text\n",
    "wiki_counters = {}\n",
    "paragraph_counters = {}\n",
    "mt_counters = {}\n",
    "\n",
    "for lang in ['bug', 'mad', 'jav','min','sun']:\n",
    "    # Clean Text\n",
    "    replacement_rules = str.maketrans('', '', string.punctuation)\n",
    "    wiki_dsets[lang]['clean_text'] = wiki_dsets[lang]['text'].apply(lambda x: x.lower().translate(replacement_rules).replace('\\n',' '))\n",
    "    if lang in paragraph_dsets:\n",
    "        paragraph_dsets[lang]['clean_text'] = paragraph_dsets[lang]['text'].apply(lambda x: x.lower().translate(replacement_rules).replace('\\n',' '))\n",
    "    if lang in mt_dsets:\n",
    "        mt_dsets[lang]['clean_text'] = mt_dsets[lang]['text'].apply(lambda x: x.lower().translate(replacement_rules).replace('\\n',' '))\n",
    "\n",
    "    # Chunk & Count Text\n",
    "    wiki_counter = Counter()\n",
    "    paragraph_counter = Counter()\n",
    "    mt_counter = Counter()\n",
    "    \n",
    "    for ct in wiki_dsets[lang]['clean_text']:\n",
    "        for word in ct.split(' '):\n",
    "            if len(word) > 0:\n",
    "                wiki_counter[word] += 1\n",
    "\n",
    "    if lang in paragraph_dsets:\n",
    "        for ct in paragraph_dsets[lang]['clean_text']:\n",
    "            for word in ct.split(' '):\n",
    "                if len(word) > 0:\n",
    "                    paragraph_counter[word] += 1\n",
    "\n",
    "    if lang in mt_dsets:\n",
    "        for ct in mt_dsets[lang]['clean_text']:\n",
    "            for word in ct.split(' '):\n",
    "                if len(word) > 0:\n",
    "                    mt_counter[word] += 1\n",
    "                    \n",
    "    wiki_counters[lang] = wiki_counter\n",
    "    paragraph_counters[lang] = paragraph_counter\n",
    "    mt_counters[lang] = mt_counter"
   ]
  },
  {
   "cell_type": "markdown",
   "metadata": {},
   "source": [
    "### General Statistics"
   ]
  },
  {
   "cell_type": "code",
   "execution_count": 6,
   "metadata": {},
   "outputs": [
    {
     "name": "stdout",
     "output_type": "stream",
     "text": [
      "bug 15866 1000 0\n",
      "mad 1002 5211 9449\n",
      "jav 72737 10188 9449\n",
      "min 226237 8608 9449\n",
      "sun 61331 9594 9449\n"
     ]
    }
   ],
   "source": [
    "# Number of document\n",
    "for lang in ['bug', 'mad', 'jav','min','sun']:\n",
    "    wiki_doc, para_doc, mt_doc = 0, 0, 0\n",
    "    \n",
    "    wiki_doc = len(wiki_dsets[lang])\n",
    "    if lang in paragraph_dsets:\n",
    "        para_doc = len(paragraph_dsets[lang])\n",
    "    if lang in mt_dsets:\n",
    "        mt_doc = len(mt_dsets[lang])\n",
    "    \n",
    "    print(f'{lang} {wiki_doc} {para_doc} {mt_doc}')    "
   ]
  },
  {
   "cell_type": "code",
   "execution_count": 7,
   "metadata": {},
   "outputs": [
    {
     "name": "stdout",
     "output_type": "stream",
     "text": [
      "bug 287823 118392 0\n",
      "mad 106335 573833 211503\n",
      "jav 8519436 1116678 208034\n",
      "min 12623423 960961 211084\n",
      "sun 5514173 1111848 209492\n"
     ]
    }
   ],
   "source": [
    "# Number of tokens\n",
    "for lang in ['bug', 'mad', 'jav','min','sun']:\n",
    "    wiki_num, para_num, mt_num = 0, 0, 0\n",
    "    \n",
    "    wiki_num = sum(wiki_counters[lang].values())\n",
    "    if lang in paragraph_dsets:\n",
    "        para_num = sum(paragraph_counters[lang].values())\n",
    "    if lang in mt_dsets:\n",
    "        mt_num = sum(mt_counters[lang].values())\n",
    "    print(f'{lang} {wiki_num} {para_num} {mt_num}')"
   ]
  },
  {
   "cell_type": "code",
   "execution_count": 8,
   "metadata": {},
   "outputs": [
    {
     "name": "stdout",
     "output_type": "stream",
     "text": [
      "bug 18.140867263330392 118.392 0.0\n",
      "mad 106.12275449101796 110.11955478794857 22.383638480262462\n",
      "jav 117.12657932001595 109.60718492343933 22.016509683564397\n",
      "min 55.79734084168372 111.63580390334573 22.339295163509366\n",
      "sun 89.90841499404868 115.88993120700438 22.17081172610858\n"
     ]
    }
   ],
   "source": [
    "# Number of tokens / document\n",
    "min_threshold = 5\n",
    "for lang in ['bug', 'mad', 'jav','min','sun']:\n",
    "    wiki_num, para_num, mt_num = 0, 0, 0\n",
    "    wiki_doc, para_doc, mt_doc = 1, 1, 1\n",
    "    \n",
    "    wiki_num = sum(wiki_counters[lang].values())\n",
    "    wiki_doc = len(wiki_dsets[lang])\n",
    "    if lang in paragraph_dsets:\n",
    "        para_num = sum(paragraph_counters[lang].values())\n",
    "        para_doc = len(paragraph_dsets[lang])\n",
    "    if lang in mt_dsets:\n",
    "        mt_num = sum(mt_counters[lang].values())\n",
    "        mt_doc = len(mt_dsets[lang])\n",
    "    \n",
    "    print(f'{lang} {wiki_num / wiki_doc} {para_num / para_doc} {mt_num / mt_doc}')"
   ]
  },
  {
   "cell_type": "code",
   "execution_count": 9,
   "metadata": {},
   "outputs": [
    {
     "name": "stdout",
     "output_type": "stream",
     "text": [
      "bug 17542 12909 0\n",
      "mad 23085 42443 34422\n",
      "jav 483499 45190 28707\n",
      "min 284476 46955 26980\n",
      "sun 289629 47648 25831\n"
     ]
    }
   ],
   "source": [
    "# Number of Unique Tokens\n",
    "for lang in ['bug', 'mad', 'jav','min','sun']:\n",
    "    wiki_len, para_len, mt_len = 0, 0, 0\n",
    "    \n",
    "    wiki_len = len(wiki_counters[lang])\n",
    "    if lang in paragraph_dsets:\n",
    "        para_len = len(paragraph_counters[lang])\n",
    "    if lang in mt_dsets:\n",
    "        mt_len = len(mt_counters[lang])\n",
    "    print(f'{lang} {wiki_len} {para_len} {mt_len}')"
   ]
  },
  {
   "cell_type": "code",
   "execution_count": 10,
   "metadata": {},
   "outputs": [
    {
     "name": "stdout",
     "output_type": "stream",
     "text": [
      "bug 17542 0.9061967467079783 0.0\n",
      "mad 23085 0.8601451324097634 0.8637538854835429\n",
      "jav 483499 0.410258679825629 0.43667270447262085\n",
      "min 284476 0.4418817616492035 0.4901597420406953\n",
      "sun 289629 0.38248441730151733 0.44758439145246204\n"
     ]
    }
   ],
   "source": [
    "# Percentage of novel words\n",
    "for lang in ['bug', 'mad', 'jav','min','sun']:\n",
    "    wiki_words, para_words, mt_words = set(), set(), set()\n",
    "\n",
    "    wiki_words = set(wiki_counters[lang].keys())\n",
    "    if lang in paragraph_dsets:\n",
    "        para_words = set(paragraph_counters[lang].keys())\n",
    "    if lang in mt_dsets:\n",
    "        mt_words = set(mt_counters[lang].keys())\n",
    "\n",
    "    print('{} {} {} {}'.format(\n",
    "        lang, len(wiki_words), \n",
    "        len(para_words - wiki_words) / (len(para_words) + 1),\n",
    "        len(mt_words - wiki_words) / (len(mt_words) + 1)\n",
    "    ))"
   ]
  },
  {
   "cell_type": "code",
   "execution_count": 11,
   "metadata": {},
   "outputs": [
    {
     "name": "stdout",
     "output_type": "stream",
     "text": [
      "bug 17542 0.9309696175112581 0.9999429972068631\n",
      "mad 23085 0.742874469375379 0.7968465736810187\n",
      "jav 483499 0.9448790072388832 0.9665522233712512\n",
      "min 284476 0.9078765594406578 0.9516445969269923\n",
      "sun 289629 0.8984083140558644 0.9507302420329385\n"
     ]
    }
   ],
   "source": [
    "# Percentage of novel words\n",
    "for lang in ['bug', 'mad', 'jav','min','sun']:\n",
    "    wiki_words, para_words, mt_words = set(), set(), set()\n",
    "\n",
    "    wiki_words = set(wiki_counters[lang].keys())\n",
    "    if lang in paragraph_dsets:\n",
    "        para_words = set(paragraph_counters[lang].keys())\n",
    "    if lang in mt_dsets:\n",
    "        mt_words = set(mt_counters[lang].keys())\n",
    "\n",
    "    print('{} {} {} {}'.format(\n",
    "        lang, len(wiki_words), \n",
    "        len(wiki_words - para_words) / (len(wiki_words) + 1),\n",
    "        len(wiki_words - mt_words) / (len(wiki_words) + 1)\n",
    "    ))"
   ]
  },
  {
   "cell_type": "code",
   "execution_count": 12,
   "metadata": {},
   "outputs": [
    {
     "name": "stdout",
     "output_type": "stream",
     "text": [
      "bug 17542 0.0609469675913058 0.10903516255184006 0.0\n",
      "mad 23085 0.21709486909419198 0.07396389896729716 0.1627486950601407\n",
      "jav 483499 0.05675245911202818 0.040468209754101224 0.13799120340327348\n",
      "min 284476 0.022535565627836 0.04886249404242832 0.1278158087974039\n",
      "sun 289629 0.05252445787891351 0.04285474016705506 0.1233024492465142\n"
     ]
    }
   ],
   "source": [
    "# Percentage of Unique Word\n",
    "for lang in ['bug', 'mad', 'jav','min','sun']:\n",
    "    wiki_words, para_words, mt_words = set(), set(), set()\n",
    "\n",
    "    wiki_words = set(wiki_counters[lang].keys())\n",
    "    if lang in paragraph_dsets:\n",
    "        para_words = set(paragraph_counters[lang].keys())\n",
    "    if lang in mt_dsets:\n",
    "        mt_words = set(mt_counters[lang].keys())\n",
    "        \n",
    "    print('{} {} {} {} {}'.format(\n",
    "        lang, len(wiki_words), \n",
    "        len(wiki_words) / (sum(list(wiki_counters[lang].values())) + 1),\n",
    "        len(para_words) / (sum(list(paragraph_counters[lang].values())) + 1),\n",
    "        len(mt_words) / (sum(list(mt_counters[lang].values())) + 1)\n",
    "    ))"
   ]
  },
  {
   "cell_type": "code",
   "execution_count": 13,
   "metadata": {},
   "outputs": [],
   "source": [
    "# Percentage of Unique Word\n",
    "for lang in ['bug', 'mad', 'jav','min','sun']:\n",
    "    data = {}\n",
    "    data['wiki_top'] = list(map(lambda x: x[0], wiki_counters[lang].most_common(100)))\n",
    "    data['wiki_cnt'] = list(map(lambda x: x[1], wiki_counters[lang].most_common(100)))\n",
    "    if lang in paragraph_dsets:\n",
    "        data['para_top'] = list(map(lambda x: x[0], paragraph_counters[lang].most_common(100)))\n",
    "        data['para_cnt'] = list(map(lambda x: x[1], paragraph_counters[lang].most_common(100)))       \n",
    "    if lang in mt_dsets:\n",
    "        data['mt_top'] = list(map(lambda x: x[0], mt_counters[lang].most_common(100)))\n",
    "        data['mt_cnt'] = list(map(lambda x: x[1], mt_counters[lang].most_common(100)))\n",
    "    pd.DataFrame(data).to_csv(f'{lang}_top100.csv', index=False)"
   ]
  },
  {
   "cell_type": "markdown",
   "metadata": {},
   "source": [
    "### Statistics with Threshold"
   ]
  },
  {
   "cell_type": "code",
   "execution_count": 14,
   "metadata": {},
   "outputs": [],
   "source": [
    "min_threshold = 5"
   ]
  },
  {
   "cell_type": "code",
   "execution_count": 15,
   "metadata": {},
   "outputs": [
    {
     "name": "stdout",
     "output_type": "stream",
     "text": [
      "bug 779 2734 0\n",
      "mad 3081 9803 4840\n",
      "jav 86005 12936 4456\n",
      "min 43036 12418 4199\n",
      "sun 52287 13250 4256\n"
     ]
    }
   ],
   "source": [
    "# Number of Unique Tokens with Threshold\n",
    "for lang in ['bug', 'mad', 'jav','min','sun']:\n",
    "    wiki_len, para_len, mt_len = 0, 0, 0\n",
    "    \n",
    "    wiki_counter = {x: count for x, count in wiki_counters[lang].items() if count >= min_threshold}\n",
    "    wiki_len = len(wiki_counter)\n",
    "    if lang in paragraph_dsets:\n",
    "        paragraph_counter = {x: count for x, count in paragraph_counters[lang].items() if count >= min_threshold}\n",
    "        para_len = len(paragraph_counter)\n",
    "    if lang in mt_dsets:\n",
    "        mt_counter = {x: count for x, count in mt_counters[lang].items() if count >= min_threshold}\n",
    "        mt_len = len(mt_counter)\n",
    "        \n",
    "    print(f'{lang} {wiki_len} {para_len} {mt_len}')"
   ]
  },
  {
   "cell_type": "code",
   "execution_count": 16,
   "metadata": {},
   "outputs": [
    {
     "name": "stdout",
     "output_type": "stream",
     "text": [
      "bug 779 0.9425749817117776 0\n",
      "mad 3081 0.8771804549627665 0.8295454545454546\n",
      "jav 86005 0.2972325293753865 0.19008078994614003\n",
      "min 43036 0.31575132871637945 0.2576804000952608\n",
      "sun 52287 0.23977358490566036 0.19666353383458646\n"
     ]
    }
   ],
   "source": [
    "# Percentage of novel words in para / mt\n",
    "for lang in ['bug', 'mad', 'jav','min','sun']:\n",
    "    wiki_words, para_words, mt_words = set(), set(), set()\n",
    "\n",
    "    wiki_counter = {x: count for x, count in wiki_counters[lang].items() if count >= min_threshold}\n",
    "    wiki_words = set(wiki_counter.keys())\n",
    "    if lang in paragraph_dsets:\n",
    "        paragraph_counter = {x: count for x, count in paragraph_counters[lang].items() if count >= min_threshold}\n",
    "        para_words = set(paragraph_counter.keys())\n",
    "    if lang in mt_dsets:\n",
    "        mt_counter = {x: count for x, count in mt_counters[lang].items() if count >= min_threshold}\n",
    "        mt_words = set(mt_counter.keys())\n",
    "\n",
    "    print('{} {} {} {}'.format(\n",
    "        lang, len(wiki_words), \n",
    "        len(para_words - wiki_words) / len(para_words),\n",
    "        len(mt_words - wiki_words) / len(mt_words) if len(mt_words) > 0 else 0\n",
    "    ))"
   ]
  },
  {
   "cell_type": "code",
   "execution_count": 17,
   "metadata": {},
   "outputs": [
    {
     "name": "stdout",
     "output_type": "stream",
     "text": [
      "bug 779 0.9425749817117776 0\n",
      "mad 3081 0.8771804549627665 0.8295454545454546\n",
      "jav 86005 0.2972325293753865 0.19008078994614003\n",
      "min 43036 0.31575132871637945 0.2576804000952608\n",
      "sun 52287 0.23977358490566036 0.19666353383458646\n"
     ]
    }
   ],
   "source": [
    "# Percentage of novel words in para / mt with Threshold\n",
    "for lang in ['bug', 'mad', 'jav','min','sun']:\n",
    "    wiki_words, para_words, mt_words = set(), set(), set()\n",
    "\n",
    "    wiki_counter = {x: count for x, count in wiki_counters[lang].items() if count >= min_threshold}\n",
    "    wiki_words = set(wiki_counter.keys())\n",
    "    if lang in paragraph_dsets:\n",
    "        paragraph_counter = {x: count for x, count in paragraph_counters[lang].items() if count >= min_threshold}\n",
    "        para_words = set(paragraph_counter.keys())\n",
    "    if lang in mt_dsets:\n",
    "        mt_counter = {x: count for x, count in mt_counters[lang].items() if count >= min_threshold}\n",
    "        mt_words = set(mt_counter.keys())\n",
    "\n",
    "    print('{} {} {} {}'.format(\n",
    "        lang, len(wiki_words), \n",
    "        len(para_words - wiki_words) / len(para_words),\n",
    "        len(mt_words - wiki_words) / len(mt_words) if len(mt_words) > 0 else 0\n",
    "    ))"
   ]
  },
  {
   "cell_type": "code",
   "execution_count": 18,
   "metadata": {},
   "outputs": [
    {
     "name": "stdout",
     "output_type": "stream",
     "text": [
      "bug 779 0.7984595635430038 1.0\n",
      "mad 3081 0.6092177864329763 0.7322297955209348\n",
      "jav 86005 0.8942968432067903 0.9580373234114296\n",
      "min 43036 0.8025606469002695 0.9275722650803978\n",
      "sun 52287 0.8073517317880161 0.9346108975462352\n"
     ]
    }
   ],
   "source": [
    "# Percentage of novel words in wiki with Threshold\n",
    "for lang in ['bug', 'mad', 'jav','min','sun']:\n",
    "    wiki_words, para_words, mt_words = set(), set(), set()\n",
    "\n",
    "    wiki_counter = {x: count for x, count in wiki_counters[lang].items() if count >= min_threshold}\n",
    "    wiki_words = set(wiki_counter.keys())\n",
    "    if lang in paragraph_dsets:\n",
    "        paragraph_counter = {x: count for x, count in paragraph_counters[lang].items() if count >= min_threshold}\n",
    "        para_words = set(paragraph_counter.keys())\n",
    "    if lang in mt_dsets:\n",
    "        mt_counter = {x: count for x, count in mt_counters[lang].items() if count >= min_threshold}\n",
    "        mt_words = set(mt_counter.keys())\n",
    "\n",
    "    print('{} {} {} {}'.format(\n",
    "        lang, len(wiki_words), \n",
    "        len(wiki_words - para_words) / len(wiki_words),\n",
    "        len(wiki_words - mt_words) / len(wiki_words)\n",
    "    ))"
   ]
  },
  {
   "cell_type": "markdown",
   "metadata": {
    "tags": []
   },
   "source": [
    "### Lexicon Overlapping"
   ]
  },
  {
   "cell_type": "code",
   "execution_count": 19,
   "metadata": {},
   "outputs": [
    {
     "name": "stdout",
     "output_type": "stream",
     "text": [
      "CPU times: user 191 ms, sys: 44.5 ms, total: 235 ms\n",
      "Wall time: 297 ms\n"
     ]
    }
   ],
   "source": [
    "%%time\n",
    "# Load Lexicon Indonesia & English\n",
    "if os.path.exists('ind_lexicon.zip') and os.path.exists('eng_lexicon.zip'):\n",
    "    ind_lexicon = pd.read_pickle('ind_lexicon.zip')\n",
    "    eng_lexicon = pd.read_pickle('eng_lexicon.zip')\n",
    "else:\n",
    "    langvar_df, expr_df, deno_df = load_panlex_resources('../resources/panlex-20230501-csv')\n",
    "    \n",
    "    ind_lexicon = extract_monolingual_lexicon('ind', langvar_df, expr_df)\n",
    "    eng_lexicon = extract_monolingual_lexicon('eng', langvar_df, expr_df)\n",
    "    \n",
    "    ind_lexicon.to_pickle('ind_lexicon.zip')\n",
    "    eng_lexicon.to_pickle('eng_lexicon.zip')"
   ]
  },
  {
   "cell_type": "code",
   "execution_count": 20,
   "metadata": {},
   "outputs": [],
   "source": [
    "ind_words, eng_words = set(), set()\n",
    "replacement_rules = str.maketrans('', '', string.punctuation + '0123456789')\n",
    "\n",
    "for word in ind_lexicon['ind'].values:\n",
    "    ind_words.add(word.lower().translate(replacement_rules))\n",
    "for word in eng_lexicon['eng'].values:\n",
    "    eng_words.add(word.lower().translate(replacement_rules))"
   ]
  },
  {
   "cell_type": "code",
   "execution_count": 21,
   "metadata": {},
   "outputs": [
    {
     "name": "stdout",
     "output_type": "stream",
     "text": [
      "bug ind 0.3735558408215661 0.30724213606437456 0\n",
      "bug eng 0.4492939666238768 0.25201170446232624 0\n",
      "mad ind 0.4466082440765985 0.3046006324594512 0.3309917355371901\n",
      "mad eng 0.3635183382018825 0.24920942568601448 0.28987603305785126\n",
      "jav ind 0.23033544561362712 0.41535250463821893 0.4326750448833034\n",
      "jav eng 0.4214987500726702 0.2561842918985776 0.31710053859964094\n",
      "min ind 0.24251789199739754 0.4139958125301981 0.44129554655870445\n",
      "min eng 0.3208708987824147 0.2463359639233371 0.3274589187901881\n",
      "sun ind 0.25975863981486796 0.40211320754716984 0.4429041353383459\n",
      "sun eng 0.4184787805764339 0.2538867924528302 0.29464285714285715\n"
     ]
    }
   ],
   "source": [
    "# Using Unique Token\n",
    "for lang in ['bug', 'mad', 'jav','min','sun']:\n",
    "    wiki_words, para_words, mt_words = set(), set(), set()\n",
    "\n",
    "    wiki_counter = {x: count for x, count in wiki_counters[lang].items() if count >= min_threshold}\n",
    "    wiki_words = set(wiki_counter.keys())\n",
    "    if lang in paragraph_dsets:\n",
    "        paragraph_counter = {x: count for x, count in paragraph_counters[lang].items() if count >= min_threshold}\n",
    "        para_words = set(paragraph_counter.keys())\n",
    "    if lang in mt_dsets:\n",
    "        mt_counter = {x: count for x, count in mt_counters[lang].items() if count >= min_threshold}\n",
    "        mt_words = set(mt_counter.keys())\n",
    "\n",
    "    print('{} {} {} {} {}'.format(\n",
    "        lang, 'ind',\n",
    "        len(wiki_words.intersection(ind_words)) / len(wiki_words),\n",
    "        len(para_words.intersection(ind_words)) / len(para_words),\n",
    "        len(mt_words.intersection(ind_words)) / len(mt_words) if len(mt_words) > 0 else 0\n",
    "    ))\n",
    "\n",
    "    print('{} {} {} {} {}'.format(\n",
    "        lang, 'eng',\n",
    "        len(wiki_words.intersection(eng_words)) / len(wiki_words),\n",
    "        len(para_words.intersection(eng_words)) / len(para_words),\n",
    "        len(mt_words.intersection(eng_words)) / len(mt_words) if len(mt_words) > 0 else 0\n",
    "    ))"
   ]
  },
  {
   "cell_type": "code",
   "execution_count": 22,
   "metadata": {},
   "outputs": [
    {
     "name": "stdout",
     "output_type": "stream",
     "text": [
      "bug ind 0.4282388829245752 0.4031691330495304 0\n",
      "bug eng 0.48837653696890104 0.4673964457057909 0\n",
      "mad ind 0.3396341750129308 0.37446434764121267 0.3650917481075919\n",
      "mad eng 0.3292518926035642 0.4142407285743413 0.41823993040287843\n",
      "jav ind 0.4258886386375812 0.4888284715916316 0.4385677341203842\n",
      "jav eng 0.43646962075893286 0.46162815063966517 0.46435678783275813\n",
      "min ind 0.4827741255283927 0.5298643753492598 0.4850628185935457\n",
      "min eng 0.5254341869079409 0.4516489222767625 0.4933865191108753\n",
      "sun ind 0.4182511139929777 0.47324454421827444 0.4246701544689057\n",
      "sun eng 0.4742462741013022 0.4221674185680057 0.4319496687224333\n"
     ]
    }
   ],
   "source": [
    "# Using Count\n",
    "for lang in ['bug', 'mad', 'jav','min','sun']:\n",
    "    wiki_word_cnt = sum(wiki_counters[lang].values())\n",
    "    para_word_cnt = sum(paragraph_counters[lang].values())\n",
    "    mt_word_cnt = sum(mt_counters[lang].values())\n",
    "\n",
    "    wiki_ind_cnt, wiki_eng_cnt = 0, 0\n",
    "    para_ind_cnt, para_eng_cnt = 0, 0\n",
    "    mt_ind_cnt, mt_eng_cnt = 0, 0\n",
    "    \n",
    "    for word in ind_words:\n",
    "        wiki_ind_cnt += wiki_counters[lang][word]\n",
    "        para_ind_cnt += paragraph_counters[lang][word]\n",
    "        mt_ind_cnt += mt_counters[lang][word]\n",
    "        \n",
    "    for word in eng_words:\n",
    "        wiki_eng_cnt += wiki_counters[lang][word]\n",
    "        para_eng_cnt += paragraph_counters[lang][word]\n",
    "        mt_eng_cnt += mt_counters[lang][word]\n",
    "        \n",
    "    print('{} {} {} {} {}'.format(\n",
    "        lang, 'ind',\n",
    "        wiki_ind_cnt / wiki_word_cnt,\n",
    "        para_ind_cnt / para_word_cnt,\n",
    "        mt_ind_cnt / mt_word_cnt if mt_word_cnt > 0 else 0,\n",
    "    ))\n",
    "\n",
    "    print('{} {} {} {} {}'.format(\n",
    "        lang, 'eng',\n",
    "        wiki_eng_cnt / wiki_word_cnt,\n",
    "        para_eng_cnt / para_word_cnt,\n",
    "        mt_eng_cnt / mt_word_cnt if mt_word_cnt > 0 else 0,\n",
    "    ))"
   ]
  },
  {
   "cell_type": "markdown",
   "metadata": {},
   "source": [
    "### Wikipedia words CDF"
   ]
  },
  {
   "cell_type": "code",
   "execution_count": 7,
   "metadata": {},
   "outputs": [
    {
     "name": "stdout",
     "output_type": "stream",
     "text": [
      "processing bug bug\n"
     ]
    },
    {
     "name": "stderr",
     "output_type": "stream",
     "text": [
      "Found cached dataset wikipedia (/home/samuel/.cache/huggingface/datasets/olm___wikipedia/20221220.bug-date=20221220,language=bug/2.0.0/dbfec0358f063ec7ae9e247d6559e2e505fbce7463e666024718863cbf199ec6)\n"
     ]
    },
    {
     "data": {
      "application/vnd.jupyter.widget-view+json": {
       "model_id": "9cd6c7d693cf4451bc044a0920be4658",
       "version_major": 2,
       "version_minor": 0
      },
      "text/plain": [
       "  0%|          | 0/1 [00:00<?, ?it/s]"
      ]
     },
     "metadata": {},
     "output_type": "display_data"
    },
    {
     "name": "stdout",
     "output_type": "stream",
     "text": [
      "processing mad mad\n"
     ]
    },
    {
     "name": "stderr",
     "output_type": "stream",
     "text": [
      "Found cached dataset wikipedia (/home/samuel/.cache/huggingface/datasets/olm___wikipedia/20221220.mad-date=20221220,language=mad/2.0.0/dbfec0358f063ec7ae9e247d6559e2e505fbce7463e666024718863cbf199ec6)\n"
     ]
    },
    {
     "data": {
      "application/vnd.jupyter.widget-view+json": {
       "model_id": "f5cea6d326644104bfbbbb2a5c6ec617",
       "version_major": 2,
       "version_minor": 0
      },
      "text/plain": [
       "  0%|          | 0/1 [00:00<?, ?it/s]"
      ]
     },
     "metadata": {},
     "output_type": "display_data"
    },
    {
     "name": "stdout",
     "output_type": "stream",
     "text": [
      "processing jv jav\n"
     ]
    },
    {
     "name": "stderr",
     "output_type": "stream",
     "text": [
      "Found cached dataset wikipedia (/home/samuel/.cache/huggingface/datasets/olm___wikipedia/20221220.jv-date=20221220,language=jv/2.0.0/dbfec0358f063ec7ae9e247d6559e2e505fbce7463e666024718863cbf199ec6)\n"
     ]
    },
    {
     "data": {
      "application/vnd.jupyter.widget-view+json": {
       "model_id": "dea8d886bd88450984c9e3550cf77fb3",
       "version_major": 2,
       "version_minor": 0
      },
      "text/plain": [
       "  0%|          | 0/1 [00:00<?, ?it/s]"
      ]
     },
     "metadata": {},
     "output_type": "display_data"
    },
    {
     "name": "stdout",
     "output_type": "stream",
     "text": [
      "processing min min\n"
     ]
    },
    {
     "name": "stderr",
     "output_type": "stream",
     "text": [
      "Found cached dataset wikipedia (/home/samuel/.cache/huggingface/datasets/olm___wikipedia/20221220.min-date=20221220,language=min/2.0.0/dbfec0358f063ec7ae9e247d6559e2e505fbce7463e666024718863cbf199ec6)\n"
     ]
    },
    {
     "data": {
      "application/vnd.jupyter.widget-view+json": {
       "model_id": "67f0dd5d5d2b4ef091ddc514f5260aad",
       "version_major": 2,
       "version_minor": 0
      },
      "text/plain": [
       "  0%|          | 0/1 [00:00<?, ?it/s]"
      ]
     },
     "metadata": {},
     "output_type": "display_data"
    },
    {
     "name": "stdout",
     "output_type": "stream",
     "text": [
      "processing su sun\n"
     ]
    },
    {
     "name": "stderr",
     "output_type": "stream",
     "text": [
      "Found cached dataset wikipedia (/home/samuel/.cache/huggingface/datasets/olm___wikipedia/20221220.su-date=20221220,language=su/2.0.0/dbfec0358f063ec7ae9e247d6559e2e505fbce7463e666024718863cbf199ec6)\n"
     ]
    },
    {
     "data": {
      "application/vnd.jupyter.widget-view+json": {
       "model_id": "7a32bdae092f45dfb58dc285982114b8",
       "version_major": 2,
       "version_minor": 0
      },
      "text/plain": [
       "  0%|          | 0/1 [00:00<?, ?it/s]"
      ]
     },
     "metadata": {},
     "output_type": "display_data"
    },
    {
     "name": "stdout",
     "output_type": "stream",
     "text": [
      "processing map-bms map-bms\n"
     ]
    },
    {
     "name": "stderr",
     "output_type": "stream",
     "text": [
      "Found cached dataset wikipedia (/home/samuel/.cache/huggingface/datasets/olm___wikipedia/20221220.map-bms-date=20221220,language=map-bms/2.0.0/dbfec0358f063ec7ae9e247d6559e2e505fbce7463e666024718863cbf199ec6)\n"
     ]
    },
    {
     "data": {
      "application/vnd.jupyter.widget-view+json": {
       "model_id": "0fdb507146814f5c8a887f0bdc058462",
       "version_major": 2,
       "version_minor": 0
      },
      "text/plain": [
       "  0%|          | 0/1 [00:00<?, ?it/s]"
      ]
     },
     "metadata": {},
     "output_type": "display_data"
    },
    {
     "name": "stdout",
     "output_type": "stream",
     "text": [
      "processing ace ace\n"
     ]
    },
    {
     "name": "stderr",
     "output_type": "stream",
     "text": [
      "Found cached dataset wikipedia (/home/samuel/.cache/huggingface/datasets/olm___wikipedia/20221220.ace-date=20221220,language=ace/2.0.0/dbfec0358f063ec7ae9e247d6559e2e505fbce7463e666024718863cbf199ec6)\n"
     ]
    },
    {
     "data": {
      "application/vnd.jupyter.widget-view+json": {
       "model_id": "a52843d3ad634780ad70b66e6b4b3e5d",
       "version_major": 2,
       "version_minor": 0
      },
      "text/plain": [
       "  0%|          | 0/1 [00:00<?, ?it/s]"
      ]
     },
     "metadata": {},
     "output_type": "display_data"
    },
    {
     "name": "stdout",
     "output_type": "stream",
     "text": [
      "processing gor gor\n"
     ]
    },
    {
     "name": "stderr",
     "output_type": "stream",
     "text": [
      "Found cached dataset wikipedia (/home/samuel/.cache/huggingface/datasets/olm___wikipedia/20221220.gor-date=20221220,language=gor/2.0.0/dbfec0358f063ec7ae9e247d6559e2e505fbce7463e666024718863cbf199ec6)\n"
     ]
    },
    {
     "data": {
      "application/vnd.jupyter.widget-view+json": {
       "model_id": "16eff43c40bf43bfb3bb789e4aec3f1c",
       "version_major": 2,
       "version_minor": 0
      },
      "text/plain": [
       "  0%|          | 0/1 [00:00<?, ?it/s]"
      ]
     },
     "metadata": {},
     "output_type": "display_data"
    },
    {
     "name": "stdout",
     "output_type": "stream",
     "text": [
      "processing ban ban\n"
     ]
    },
    {
     "name": "stderr",
     "output_type": "stream",
     "text": [
      "Found cached dataset wikipedia (/home/samuel/.cache/huggingface/datasets/olm___wikipedia/20221220.ban-date=20221220,language=ban/2.0.0/dbfec0358f063ec7ae9e247d6559e2e505fbce7463e666024718863cbf199ec6)\n"
     ]
    },
    {
     "data": {
      "application/vnd.jupyter.widget-view+json": {
       "model_id": "b7660e626312469f8bab4ab85c941116",
       "version_major": 2,
       "version_minor": 0
      },
      "text/plain": [
       "  0%|          | 0/1 [00:00<?, ?it/s]"
      ]
     },
     "metadata": {},
     "output_type": "display_data"
    },
    {
     "name": "stdout",
     "output_type": "stream",
     "text": [
      "processing bjn bjn\n"
     ]
    },
    {
     "name": "stderr",
     "output_type": "stream",
     "text": [
      "Found cached dataset wikipedia (/home/samuel/.cache/huggingface/datasets/olm___wikipedia/20221220.bjn-date=20221220,language=bjn/2.0.0/dbfec0358f063ec7ae9e247d6559e2e505fbce7463e666024718863cbf199ec6)\n"
     ]
    },
    {
     "data": {
      "application/vnd.jupyter.widget-view+json": {
       "model_id": "53f80f17fd8840b581e682bdc0e1ca56",
       "version_major": 2,
       "version_minor": 0
      },
      "text/plain": [
       "  0%|          | 0/1 [00:00<?, ?it/s]"
      ]
     },
     "metadata": {},
     "output_type": "display_data"
    },
    {
     "name": "stdout",
     "output_type": "stream",
     "text": [
      "processing nia nia\n"
     ]
    },
    {
     "name": "stderr",
     "output_type": "stream",
     "text": [
      "Found cached dataset wikipedia (/home/samuel/.cache/huggingface/datasets/olm___wikipedia/20221220.nia-date=20221220,language=nia/2.0.0/dbfec0358f063ec7ae9e247d6559e2e505fbce7463e666024718863cbf199ec6)\n"
     ]
    },
    {
     "data": {
      "application/vnd.jupyter.widget-view+json": {
       "model_id": "f010967b8a974a48a18c16efdb5ba9aa",
       "version_major": 2,
       "version_minor": 0
      },
      "text/plain": [
       "  0%|          | 0/1 [00:00<?, ?it/s]"
      ]
     },
     "metadata": {},
     "output_type": "display_data"
    },
    {
     "name": "stdout",
     "output_type": "stream",
     "text": [
      "processing id ind\n"
     ]
    },
    {
     "name": "stderr",
     "output_type": "stream",
     "text": [
      "Found cached dataset wikipedia (/home/samuel/.cache/huggingface/datasets/olm___wikipedia/20221220.id-date=20221220,language=id/2.0.0/dbfec0358f063ec7ae9e247d6559e2e505fbce7463e666024718863cbf199ec6)\n"
     ]
    },
    {
     "data": {
      "application/vnd.jupyter.widget-view+json": {
       "model_id": "2370b55638a64bd18c46da242b6b3bd9",
       "version_major": 2,
       "version_minor": 0
      },
      "text/plain": [
       "  0%|          | 0/1 [00:00<?, ?it/s]"
      ]
     },
     "metadata": {},
     "output_type": "display_data"
    }
   ],
   "source": [
    "# Load Wiki\n",
    "wiki_dsets = {}\n",
    "for lang in ['bug', 'mad', 'jv', 'min', 'su', 'map-bms', 'ace', 'gor', 'ban', 'bjn', 'nia', 'id']:\n",
    "    if lang == 'su':\n",
    "        iso_lang = 'sun'\n",
    "    elif lang == 'jv':\n",
    "        iso_lang = 'jav'\n",
    "    elif lang == 'id':\n",
    "        iso_lang = 'ind'\n",
    "    elif lang == 'en':\n",
    "        iso_lang = 'eng'\n",
    "    else:\n",
    "        iso_lang = lang\n",
    "    print(f'processing {lang} {iso_lang}')\n",
    "    wiki_dsets[iso_lang] = datasets.load_dataset('olm/wikipedia', language=lang, date=\"20221220\")['train'].to_pandas()"
   ]
  },
  {
   "cell_type": "code",
   "execution_count": 8,
   "metadata": {},
   "outputs": [
    {
     "name": "stderr",
     "output_type": "stream",
     "text": [
      "100%|██████████████████████████████████████████████████████████████████████████████████████████████████████████████████████████████████████████████| 12/12 [03:07<00:00, 15.63s/it]\n"
     ]
    }
   ],
   "source": [
    "lang2size = {\n",
    "    'ind': 510393, 'min': 224181, 'jav': 65011, 'sun': 61179, 'bug': 14407, 'map-bms': 13950, \n",
    "    'ace': 12623, 'gor': 12843, 'ban': 9948, 'bjn': 4587, 'nia': 1073, 'mad': 905\n",
    "}\n",
    "\n",
    "dfs = []\n",
    "wiki_counters = {}\n",
    "for lang, dset in tqdm(wiki_dsets.items()):\n",
    "    # Clean Text\n",
    "    replacement_rules = str.maketrans('', '', string.punctuation + '0123456789')\n",
    "    dset['clean_text'] = dset['text'].apply(lambda x: x.lower().translate(replacement_rules).replace('\\n',' '))\n",
    "        \n",
    "    # Chunk & Count Text\n",
    "    wiki_counter = Counter()    \n",
    "    for ct in wiki_dsets[lang]['clean_text']:\n",
    "        for word in ct.split(' '):\n",
    "            if len(word) > 0:\n",
    "                wiki_counter[word] += 1\n",
    "    df = pd.DataFrame({'word': list(wiki_counter.keys()), 'count': list(wiki_counter.values())})\n",
    "    df = df.sort_values('count', ascending=False).reset_index(drop=True).reset_index(drop=False)\n",
    "    \n",
    "    df['lang'] = lang\n",
    "    df['size'] = lang2size[lang]\n",
    "    df['count_norm'] = df['count'] / df['count'].sum()\n",
    "    df['cum_count'] = df['count'].cumsum()\n",
    "    df['cum_count_norm'] = df['count_norm'].cumsum()\n",
    "    df['norm_index'] = df['index'] / len(df)\n",
    "    \n",
    "    wiki_counters[lang] = wiki_counter\n",
    "    dfs.append(df)\n",
    "wiki_df = pd.concat(dfs)"
   ]
  },
  {
   "cell_type": "markdown",
   "metadata": {
    "tags": []
   },
   "source": [
    "### General Statistics"
   ]
  },
  {
   "cell_type": "code",
   "execution_count": 25,
   "metadata": {},
   "outputs": [
    {
     "name": "stdout",
     "output_type": "stream",
     "text": [
      "bug 15866 287094 18.094919954619943 17204 1501 752\n",
      "mad 1002 100097 99.89720558882236 21862 5204 2925\n",
      "jav 72737 8216771 112.96549211542956 440360 123942 82605\n",
      "min 226237 12177409 53.82589496855068 201341 63947 40423\n",
      "sun 61331 5337682 87.03073486491334 241285 72102 48613\n",
      "map-bms 13575 530811 39.102099447513815 52761 15750 10013\n",
      "ace 12829 477213 37.19798893132746 30020 7516 4493\n",
      "gor 14389 581647 40.42303148238238 41759 10765 6786\n",
      "ban 17161 1640609 95.60101392692734 124511 32533 19955\n",
      "bjn 10122 661857 65.38796680497926 77502 20191 12556\n",
      "nia 1620 242024 149.39753086419753 23660 7168 4505\n",
      "ind 633703 128874702 203.36766908157293 2151394 639134 420609\n"
     ]
    }
   ],
   "source": [
    "# Number of document\n",
    "for lang in list(wiki_dsets.keys()):\n",
    "    wiki_doc = len(wiki_dsets[lang])\n",
    "    wiki_num = sum(wiki_counters[lang].values()) \n",
    "    wiki_unique = len(wiki_counters.keys())\n",
    "    \n",
    "    wiki_counter = {x: count for x, count in wiki_counters[lang].items() if count >= 1}\n",
    "    wiki_len_1 = len(wiki_counter)\n",
    "    \n",
    "    wiki_counter = {x: count for x, count in wiki_counters[lang].items() if count >= 3}\n",
    "    wiki_len_3 = len(wiki_counter)\n",
    "    \n",
    "    wiki_counter = {x: count for x, count in wiki_counters[lang].items() if count >= 5}\n",
    "    wiki_len_5 = len(wiki_counter)\n",
    "    print(f'{lang} {wiki_doc} {wiki_num} {wiki_num / wiki_doc} {wiki_len_1} {wiki_len_3} {wiki_len_5}')"
   ]
  },
  {
   "cell_type": "markdown",
   "metadata": {},
   "source": [
    "### Cumulative Token Distribution\n",
    "Showing commonly repetitive words per language"
   ]
  },
  {
   "cell_type": "code",
   "execution_count": 26,
   "metadata": {},
   "outputs": [],
   "source": [
    "for lang, value in wiki_df.groupby('lang').head(1000).groupby('lang')['count_norm'].sum().iteritems():\n",
    "    wiki_df.loc[wiki_df['lang'] == lang, 'neg_cum_val'] = -value\n",
    "wiki_df = wiki_df.sort_values(['neg_cum_val', 'index']).reset_index(drop=True)"
   ]
  },
  {
   "cell_type": "code",
   "execution_count": 27,
   "metadata": {},
   "outputs": [],
   "source": [
    "wiki_df['size'] = wiki_df['lang'].apply(lambda x: lang2size[x])\n",
    "wiki_df = wiki_df.sort_values(['size', 'index']).reset_index(drop=True)"
   ]
  },
  {
   "cell_type": "code",
   "execution_count": 88,
   "metadata": {},
   "outputs": [
    {
     "data": {
      "image/png": "[encoded data removed]",
      "text/plain": [
       "<Figure size 1000x700 with 1 Axes>"
      ]
     },
     "metadata": {},
     "output_type": "display_data"
    }
   ],
   "source": [
    "import numpy as np\n",
    "import seaborn as sns\n",
    "import matplotlib.pyplot as plt\n",
    "\n",
    "plt.figure(figsize=(10,7))\n",
    "\n",
    "ax = sns.lineplot(wiki_df.loc[wiki_df['index'] < 2000,:], x='index', y='cum_count_norm', hue='lang', palette='crest')\n",
    "ax.axvline(x = 500, ymin = 0, ymax = 1, linestyle='dashed')\n",
    "plt.xticks([0, 500, 1000, 1500, 2000], [x * 500 for x in range(0,5)], fontsize=22)\n",
    "plt.yticks(np.arange(0.1,1.01,0.1), [f'{x}0%' for x in range(1,11)], fontsize=22)\n",
    "plt.legend(ncol=2, fontsize=21)\n",
    "plt.xlabel('top-k words', fontsize=24)\n",
    "plt.ylabel('cumulative count (%)', fontsize=24)\n",
    "plt.savefig('cumulative_count_wiki.pdf', bbox_inches='tight')"
   ]
  },
  {
   "cell_type": "code",
   "execution_count": 92,
   "metadata": {},
   "outputs": [],
   "source": [
    "import torch\n",
    "torch.save(wiki_counters, 'wiki_counter.pt')"
   ]
  },
  {
   "cell_type": "code",
   "execution_count": 93,
   "metadata": {},
   "outputs": [
    {
     "name": "stdout",
     "output_type": "stream",
     "text": [
      "71M\twiki_counter.pt\n"
     ]
    }
   ],
   "source": [
    "wiki_counters"
   ]
  },
  {
   "cell_type": "markdown",
   "metadata": {},
   "source": [
    "# Language Intersection"
   ]
  },
  {
   "cell_type": "code",
   "execution_count": 29,
   "metadata": {},
   "outputs": [
    {
     "name": "stdout",
     "output_type": "stream",
     "text": [
      "bug ind 0.3896276595744681\n",
      "bug eng 0.46808510638297873\n",
      "mad ind 0.4735042735042735\n",
      "mad eng 0.38564102564102565\n",
      "jav ind 0.24015495430058714\n",
      "jav eng 0.4406391864899219\n",
      "min ind 0.2585409296687529\n",
      "min eng 0.3445810553397818\n",
      "sun ind 0.27986341102174317\n",
      "sun eng 0.45362351634336495\n",
      "map-bms ind 0.589933086986917\n",
      "map-bms eng 0.3586337760910816\n",
      "ace ind 0.38014689517026484\n",
      "ace eng 0.39884264411306475\n",
      "gor ind 0.5841438255231358\n",
      "gor eng 0.40318302387267907\n",
      "ban ind 0.311951891756452\n",
      "ban eng 0.33625657729892255\n",
      "bjn ind 0.49776999044281617\n",
      "bjn eng 0.3861898693851545\n",
      "nia ind 0.2763596004439512\n",
      "nia eng 0.2672586015538291\n",
      "ind ind 0.08504810881364878\n",
      "ind eng 0.41789167611724903\n"
     ]
    }
   ],
   "source": [
    "for lang in list(wiki_dsets.keys()):\n",
    "    wiki_words = set()\n",
    "    wiki_counter = {x: count for x, count in wiki_counters[lang].items() if count >= min_threshold}\n",
    "    wiki_words = set(wiki_counter.keys())\n",
    "\n",
    "    print('{} {} {}'.format(\n",
    "        lang, 'ind',\n",
    "        len(wiki_words.intersection(ind_words)) / len(wiki_words) if len(wiki_words) > 0 else 0,\n",
    "    ))\n",
    "\n",
    "    print('{} {} {}'.format(\n",
    "        lang, 'eng',\n",
    "        len(wiki_words.intersection(eng_words)) / len(wiki_words) if len(wiki_words) > 0 else 0,\n",
    "    ))"
   ]
  },
  {
   "cell_type": "code",
   "execution_count": 30,
   "metadata": {},
   "outputs": [
    {
     "name": "stdout",
     "output_type": "stream",
     "text": [
      "bug ind 0.42948302646519954\n",
      "bug eng 0.4898116993040607\n",
      "mad ind 0.36554542094168657\n",
      "mad eng 0.35467596431461484\n",
      "jav ind 0.4451523597286574\n",
      "jav eng 0.45681095408403133\n",
      "min ind 0.5026578313991096\n",
      "min eng 0.5501212942753257\n",
      "sun ind 0.4365986958383808\n",
      "sun eng 0.496654165609716\n",
      "map-bms ind 0.6491613775901404\n",
      "map-bms eng 0.5276360135716855\n",
      "ace ind 0.3399132043762429\n",
      "ace eng 0.46744954559075297\n",
      "gor ind 0.6552359076897156\n",
      "gor eng 0.6443427027045614\n",
      "ban ind 0.44157139208671903\n",
      "ban eng 0.4196112541135639\n",
      "bjn ind 0.5673053242618874\n",
      "bjn eng 0.5104576970554062\n",
      "nia ind 0.3759875053713681\n",
      "nia eng 0.43443212243413876\n",
      "ind ind 0.8109267635784717\n",
      "ind eng 0.5421973274475544\n"
     ]
    }
   ],
   "source": [
    "# Using Count\n",
    "for lang in list(wiki_dsets.keys()):\n",
    "    wiki_word_cnt = sum(wiki_counters[lang].values())\n",
    "    wiki_ind_cnt, wiki_eng_cnt = 0, 0\n",
    "    for word in ind_words:\n",
    "        wiki_ind_cnt += wiki_counters[lang][word]        \n",
    "    for word in eng_words:\n",
    "        wiki_eng_cnt += wiki_counters[lang][word]\n",
    "        \n",
    "    print('{} {} {}'.format(\n",
    "        lang, 'ind',\n",
    "        wiki_ind_cnt / wiki_word_cnt,\n",
    "    ))\n",
    "\n",
    "    print('{} {} {}'.format(\n",
    "        lang, 'eng',\n",
    "        wiki_eng_cnt / wiki_word_cnt,\n",
    "    ))"
   ]
  },
  {
   "cell_type": "markdown",
   "metadata": {},
   "source": [
    "### Languge Intersection Word Level"
   ]
  },
  {
   "cell_type": "code",
   "execution_count": 12,
   "metadata": {},
   "outputs": [
    {
     "name": "stdout",
     "output_type": "stream",
     "text": [
      "CPU times: user 248 ms, sys: 32.2 ms, total: 280 ms\n",
      "Wall time: 805 ms\n"
     ]
    }
   ],
   "source": [
    "%%time\n",
    "# Load Lexicon Indonesia & English\n",
    "if os.path.exists('ind_lexicon.zip') and os.path.exists('eng_lexicon.zip'):\n",
    "    ind_lexicon = pd.read_pickle('ind_lexicon.zip')\n",
    "    eng_lexicon = pd.read_pickle('eng_lexicon.zip')\n",
    "else:\n",
    "    langvar_df, expr_df, deno_df = load_panlex_resources('../resources/panlex-20230501-csv')\n",
    "    \n",
    "    ind_lexicon = extract_monolingual_lexicon('ind', langvar_df, expr_df)\n",
    "    eng_lexicon = extract_monolingual_lexicon('eng', langvar_df, expr_df)\n",
    "    \n",
    "    ind_lexicon.to_pickle('ind_lexicon.zip')\n",
    "    eng_lexicon.to_pickle('eng_lexicon.zip')"
   ]
  },
  {
   "cell_type": "code",
   "execution_count": 13,
   "metadata": {},
   "outputs": [],
   "source": [
    "ind_words, eng_words = set(), set()\n",
    "replacement_rules = str.maketrans('', '', string.punctuation + '0123456789')\n",
    "\n",
    "for word in ind_lexicon['ind'].values:\n",
    "    ind_words.add(word.lower().translate(replacement_rules))\n",
    "for word in eng_lexicon['eng'].values:\n",
    "    eng_words.add(word.lower().translate(replacement_rules))"
   ]
  },
  {
   "cell_type": "markdown",
   "metadata": {},
   "source": [
    "##### Wikipedia"
   ]
  },
  {
   "cell_type": "code",
   "execution_count": 94,
   "metadata": {},
   "outputs": [],
   "source": [
    "# Using Count\n",
    "wiki_ind_counters = {}\n",
    "wiki_eng_counters = {}\n",
    "for lang in list(wiki_dsets.keys()):\n",
    "    wiki_ind_counters[lang] = Counter()\n",
    "    wiki_eng_counters[lang] = Counter()\n",
    "    for word in ind_words:\n",
    "        wiki_ind_counters[lang][word] = wiki_counters[lang][word]\n",
    "    for word in eng_words:\n",
    "        wiki_eng_counters[lang][word] = wiki_counters[lang][word]"
   ]
  },
  {
   "cell_type": "code",
   "execution_count": 102,
   "metadata": {},
   "outputs": [],
   "source": [
    "for lang in list(wiki_dsets.keys()):    \n",
    "    data = {'word':[], 'count':[]}\n",
    "    for w, c in wiki_ind_counters[lang].most_common(200):\n",
    "        data['word'].append(w)\n",
    "        data['count'].append(c)\n",
    "    pd.DataFrame(data).to_csv(f'./wiki_counts/{lang}_ind_200_count.csv', index=False)"
   ]
  },
  {
   "cell_type": "code",
   "execution_count": 103,
   "metadata": {},
   "outputs": [],
   "source": [
    "for lang in list(wiki_dsets.keys()):    \n",
    "    data = {'word':[], 'count':[]}\n",
    "    for w, c in wiki_eng_counters[lang].most_common(200):\n",
    "        data['word'].append(w)\n",
    "        data['count'].append(c)\n",
    "    pd.DataFrame(data).to_csv(f'./wiki_counts/{lang}_eng_200_count.csv', index=False)"
   ]
  },
  {
   "cell_type": "markdown",
   "metadata": {},
   "source": [
    "##### Paragraph"
   ]
  },
  {
   "cell_type": "code",
   "execution_count": 14,
   "metadata": {},
   "outputs": [],
   "source": [
    "# Using Count\n",
    "para_ind_counters = {}\n",
    "para_eng_counters = {}\n",
    "for lang in list(paragraph_dsets.keys()):\n",
    "    para_ind_counters[lang] = Counter()\n",
    "    para_eng_counters[lang] = Counter()\n",
    "    for word in ind_words:\n",
    "        para_ind_counters[lang][word] = paragraph_counters[lang][word]\n",
    "    for word in eng_words:\n",
    "        para_eng_counters[lang][word] = paragraph_counters[lang][word]"
   ]
  },
  {
   "cell_type": "code",
   "execution_count": 16,
   "metadata": {},
   "outputs": [],
   "source": [
    "dfs = []\n",
    "for lang in list(paragraph_dsets.keys()):    \n",
    "    data = {'lang':[], 'word':[], 'count':[]}\n",
    "    for w, c in para_ind_counters[lang].most_common(200):\n",
    "        data['word'].append(w)\n",
    "        data['count'].append(c)\n",
    "        data['lang'].append(lang)\n",
    "    dfs.append(pd.DataFrame(data))\n",
    "pd.concat(dfs).to_csv(f'./para_counts/ind_200_count.csv', index=False)"
   ]
  },
  {
   "cell_type": "code",
   "execution_count": 17,
   "metadata": {},
   "outputs": [],
   "source": [
    "dfs = []\n",
    "for lang in list(paragraph_dsets.keys()):    \n",
    "    data = {'lang':[], 'word':[], 'count':[]}\n",
    "    for w, c in para_eng_counters[lang].most_common(200):\n",
    "        data['word'].append(w)\n",
    "        data['count'].append(c)\n",
    "        data['lang'].append(lang)\n",
    "    dfs.append(pd.DataFrame(data))\n",
    "pd.concat(dfs).to_csv(f'./para_counts/eng_200_count.csv', index=False)"
   ]
  },
  {
   "cell_type": "markdown",
   "metadata": {},
   "source": [
    "##### Translation"
   ]
  },
  {
   "cell_type": "code",
   "execution_count": 18,
   "metadata": {},
   "outputs": [],
   "source": [
    "# Using Count\n",
    "mt_ind_counters = {}\n",
    "mt_eng_counters = {}\n",
    "for lang in list(mt_dsets.keys()):\n",
    "    mt_ind_counters[lang] = Counter()\n",
    "    mt_eng_counters[lang] = Counter()\n",
    "    for word in ind_words:\n",
    "        mt_ind_counters[lang][word] = mt_counters[lang][word]\n",
    "    for word in eng_words:\n",
    "        mt_eng_counters[lang][word] = mt_counters[lang][word]"
   ]
  },
  {
   "cell_type": "code",
   "execution_count": 19,
   "metadata": {},
   "outputs": [],
   "source": [
    "dfs = []\n",
    "for lang in list(mt_dsets.keys()):    \n",
    "    data = {'lang':[], 'word':[], 'count':[]}\n",
    "    for w, c in mt_ind_counters[lang].most_common(200):\n",
    "        data['word'].append(w)\n",
    "        data['count'].append(c)\n",
    "        data['lang'].append(lang)\n",
    "    dfs.append(pd.DataFrame(data))\n",
    "pd.concat(dfs).to_csv(f'./mt_counts/ind_200_count.csv', index=False)"
   ]
  },
  {
   "cell_type": "code",
   "execution_count": 20,
   "metadata": {},
   "outputs": [],
   "source": [
    "dfs = []\n",
    "for lang in list(mt_dsets.keys()):    \n",
    "    data = {'lang':[], 'word':[], 'count':[]}\n",
    "    for w, c in mt_eng_counters[lang].most_common(200):\n",
    "        data['word'].append(w)\n",
    "        data['count'].append(c)\n",
    "        data['lang'].append(lang)\n",
    "    dfs.append(pd.DataFrame(data))\n",
    "pd.concat(dfs).to_csv(f'./mt_counts/eng_200_count.csv', index=False)"
   ]
  },
  {
   "cell_type": "code",
   "execution_count": null,
   "metadata": {},
   "outputs": [
    {
     "name": "stdout",
     "output_type": "stream",
     "text": [
      "(4, 9)\n"
     ]
    }
   ],
   "source": [
    "from sklearn.feature_extraction.text import TfidfVectorizer\n",
    "corpus = [\n",
    "    'This is the first document.',\n",
    "    'This document is the second document.',\n",
    "    'And this is the third one.',\n",
    "    'Is this the first document?',\n",
    "]\n",
    "vectorizer = TfidfVectorizer()\n",
    "X = vectorizer.fit_transform(corpus)\n",
    "vectorizer.get_feature_names_out()\n",
    "print(X.shape)"
   ]
  },
  {
   "cell_type": "code",
   "execution_count": 233,
   "metadata": {},
   "outputs": [],
   "source": [
    "words = [\n",
    "    'indomie', 'angkot', 'rendang', 'tempe', 'tahu',\n",
    "    'doa', 'ibadah', 'ojol', 'alay', 'gojek', 'jamu', \n",
    "    'gaib', 'santun', 'bule', 'alhamdulilah', 'insyaallah',\n",
    "    'korupsi', 'gule', 'soto', 'sate'\n",
    "]\n",
    "wiki_data = {'word':[], 'bug':[], 'jav':[], 'mad':[], 'min':[], 'sun':[]}\n",
    "para_data = {'word':[], 'bug':[], 'jav':[], 'mad':[], 'min':[], 'sun':[]}\n",
    "mt_data = {'word':[], 'jav':[], 'mad':[], 'min':[], 'sun':[]}\n",
    "for word in words:\n",
    "    wiki_data['word'].append(word)\n",
    "    para_data['word'].append(word)\n",
    "    mt_data['word'].append(word)\n",
    "    for lang in list(mt_dsets.keys()):\n",
    "        wiki_data[lang].append(wiki_counters[lang][word])\n",
    "        para_data[lang].append(paragraph_counters[lang][word])\n",
    "        mt_data[lang].append(mt_counters[lang][word])\n",
    "\n",
    "    for lang in ['bug']: \n",
    "        wiki_data[lang].append(wiki_counters[lang][word])\n",
    "        para_data[lang].append(paragraph_counters[lang][word])"
   ]
  },
  {
   "cell_type": "code",
   "execution_count": 234,
   "metadata": {},
   "outputs": [
    {
     "data": {
      "text/html": [
       "<div>\n",
       "<style scoped>\n",
       "    .dataframe tbody tr th:only-of-type {\n",
       "        vertical-align: middle;\n",
       "    }\n",
       "\n",
       "    .dataframe tbody tr th {\n",
       "        vertical-align: top;\n",
       "    }\n",
       "\n",
       "    .dataframe thead th {\n",
       "        text-align: right;\n",
       "    }\n",
       "</style>\n",
       "<table border=\"1\" class=\"dataframe\">\n",
       "  <thead>\n",
       "    <tr style=\"text-align: right;\">\n",
       "      <th></th>\n",
       "      <th>word</th>\n",
       "      <th>bug</th>\n",
       "      <th>jav</th>\n",
       "      <th>mad</th>\n",
       "      <th>min</th>\n",
       "      <th>sun</th>\n",
       "    </tr>\n",
       "  </thead>\n",
       "  <tbody>\n",
       "    <tr>\n",
       "      <th>0</th>\n",
       "      <td>indomie</td>\n",
       "      <td>0</td>\n",
       "      <td>36</td>\n",
       "      <td>1</td>\n",
       "      <td>1</td>\n",
       "      <td>51</td>\n",
       "    </tr>\n",
       "    <tr>\n",
       "      <th>1</th>\n",
       "      <td>angkot</td>\n",
       "      <td>0</td>\n",
       "      <td>14</td>\n",
       "      <td>0</td>\n",
       "      <td>8</td>\n",
       "      <td>56</td>\n",
       "    </tr>\n",
       "    <tr>\n",
       "      <th>2</th>\n",
       "      <td>rendang</td>\n",
       "      <td>0</td>\n",
       "      <td>36</td>\n",
       "      <td>0</td>\n",
       "      <td>14</td>\n",
       "      <td>24</td>\n",
       "    </tr>\n",
       "    <tr>\n",
       "      <th>3</th>\n",
       "      <td>tempe</td>\n",
       "      <td>0</td>\n",
       "      <td>123</td>\n",
       "      <td>0</td>\n",
       "      <td>29</td>\n",
       "      <td>11</td>\n",
       "    </tr>\n",
       "    <tr>\n",
       "      <th>4</th>\n",
       "      <td>tahu</td>\n",
       "      <td>0</td>\n",
       "      <td>708</td>\n",
       "      <td>5</td>\n",
       "      <td>125</td>\n",
       "      <td>187</td>\n",
       "    </tr>\n",
       "    <tr>\n",
       "      <th>5</th>\n",
       "      <td>doa</td>\n",
       "      <td>0</td>\n",
       "      <td>88</td>\n",
       "      <td>2</td>\n",
       "      <td>35</td>\n",
       "      <td>65</td>\n",
       "    </tr>\n",
       "    <tr>\n",
       "      <th>6</th>\n",
       "      <td>ibadah</td>\n",
       "      <td>0</td>\n",
       "      <td>124</td>\n",
       "      <td>4</td>\n",
       "      <td>159</td>\n",
       "      <td>263</td>\n",
       "    </tr>\n",
       "    <tr>\n",
       "      <th>7</th>\n",
       "      <td>ojol</td>\n",
       "      <td>0</td>\n",
       "      <td>0</td>\n",
       "      <td>0</td>\n",
       "      <td>0</td>\n",
       "      <td>0</td>\n",
       "    </tr>\n",
       "    <tr>\n",
       "      <th>8</th>\n",
       "      <td>alay</td>\n",
       "      <td>0</td>\n",
       "      <td>7</td>\n",
       "      <td>0</td>\n",
       "      <td>0</td>\n",
       "      <td>0</td>\n",
       "    </tr>\n",
       "    <tr>\n",
       "      <th>9</th>\n",
       "      <td>gojek</td>\n",
       "      <td>0</td>\n",
       "      <td>18</td>\n",
       "      <td>1</td>\n",
       "      <td>20</td>\n",
       "      <td>0</td>\n",
       "    </tr>\n",
       "    <tr>\n",
       "      <th>10</th>\n",
       "      <td>jamu</td>\n",
       "      <td>0</td>\n",
       "      <td>521</td>\n",
       "      <td>1</td>\n",
       "      <td>17</td>\n",
       "      <td>32</td>\n",
       "    </tr>\n",
       "    <tr>\n",
       "      <th>11</th>\n",
       "      <td>gaib</td>\n",
       "      <td>0</td>\n",
       "      <td>90</td>\n",
       "      <td>0</td>\n",
       "      <td>17</td>\n",
       "      <td>70</td>\n",
       "    </tr>\n",
       "    <tr>\n",
       "      <th>12</th>\n",
       "      <td>santun</td>\n",
       "      <td>0</td>\n",
       "      <td>39</td>\n",
       "      <td>0</td>\n",
       "      <td>7</td>\n",
       "      <td>14</td>\n",
       "    </tr>\n",
       "    <tr>\n",
       "      <th>13</th>\n",
       "      <td>bule</td>\n",
       "      <td>0</td>\n",
       "      <td>19</td>\n",
       "      <td>0</td>\n",
       "      <td>5</td>\n",
       "      <td>7</td>\n",
       "    </tr>\n",
       "    <tr>\n",
       "      <th>14</th>\n",
       "      <td>alhamdulilah</td>\n",
       "      <td>0</td>\n",
       "      <td>2</td>\n",
       "      <td>0</td>\n",
       "      <td>0</td>\n",
       "      <td>0</td>\n",
       "    </tr>\n",
       "    <tr>\n",
       "      <th>15</th>\n",
       "      <td>insyaallah</td>\n",
       "      <td>0</td>\n",
       "      <td>2</td>\n",
       "      <td>0</td>\n",
       "      <td>0</td>\n",
       "      <td>0</td>\n",
       "    </tr>\n",
       "    <tr>\n",
       "      <th>16</th>\n",
       "      <td>korupsi</td>\n",
       "      <td>0</td>\n",
       "      <td>190</td>\n",
       "      <td>11</td>\n",
       "      <td>85</td>\n",
       "      <td>41</td>\n",
       "    </tr>\n",
       "    <tr>\n",
       "      <th>17</th>\n",
       "      <td>gule</td>\n",
       "      <td>0</td>\n",
       "      <td>26</td>\n",
       "      <td>0</td>\n",
       "      <td>2</td>\n",
       "      <td>4</td>\n",
       "    </tr>\n",
       "    <tr>\n",
       "      <th>18</th>\n",
       "      <td>soto</td>\n",
       "      <td>12</td>\n",
       "      <td>365</td>\n",
       "      <td>4</td>\n",
       "      <td>66</td>\n",
       "      <td>328</td>\n",
       "    </tr>\n",
       "    <tr>\n",
       "      <th>19</th>\n",
       "      <td>sate</td>\n",
       "      <td>0</td>\n",
       "      <td>223</td>\n",
       "      <td>2</td>\n",
       "      <td>169</td>\n",
       "      <td>21</td>\n",
       "    </tr>\n",
       "  </tbody>\n",
       "</table>\n",
       "</div>"
      ],
      "text/plain": [
       "            word  bug  jav  mad  min  sun\n",
       "0        indomie    0   36    1    1   51\n",
       "1         angkot    0   14    0    8   56\n",
       "2        rendang    0   36    0   14   24\n",
       "3          tempe    0  123    0   29   11\n",
       "4           tahu    0  708    5  125  187\n",
       "5            doa    0   88    2   35   65\n",
       "6         ibadah    0  124    4  159  263\n",
       "7           ojol    0    0    0    0    0\n",
       "8           alay    0    7    0    0    0\n",
       "9          gojek    0   18    1   20    0\n",
       "10          jamu    0  521    1   17   32\n",
       "11          gaib    0   90    0   17   70\n",
       "12        santun    0   39    0    7   14\n",
       "13          bule    0   19    0    5    7\n",
       "14  alhamdulilah    0    2    0    0    0\n",
       "15    insyaallah    0    2    0    0    0\n",
       "16       korupsi    0  190   11   85   41\n",
       "17          gule    0   26    0    2    4\n",
       "18          soto   12  365    4   66  328\n",
       "19          sate    0  223    2  169   21"
      ]
     },
     "execution_count": 234,
     "metadata": {},
     "output_type": "execute_result"
    }
   ],
   "source": [
    "pd.DataFrame(wiki_data)"
   ]
  },
  {
   "cell_type": "code",
   "execution_count": 235,
   "metadata": {},
   "outputs": [
    {
     "data": {
      "text/html": [
       "<div>\n",
       "<style scoped>\n",
       "    .dataframe tbody tr th:only-of-type {\n",
       "        vertical-align: middle;\n",
       "    }\n",
       "\n",
       "    .dataframe tbody tr th {\n",
       "        vertical-align: top;\n",
       "    }\n",
       "\n",
       "    .dataframe thead th {\n",
       "        text-align: right;\n",
       "    }\n",
       "</style>\n",
       "<table border=\"1\" class=\"dataframe\">\n",
       "  <thead>\n",
       "    <tr style=\"text-align: right;\">\n",
       "      <th></th>\n",
       "      <th>word</th>\n",
       "      <th>bug</th>\n",
       "      <th>jav</th>\n",
       "      <th>mad</th>\n",
       "      <th>min</th>\n",
       "      <th>sun</th>\n",
       "    </tr>\n",
       "  </thead>\n",
       "  <tbody>\n",
       "    <tr>\n",
       "      <th>0</th>\n",
       "      <td>indomie</td>\n",
       "      <td>0</td>\n",
       "      <td>24</td>\n",
       "      <td>9</td>\n",
       "      <td>12</td>\n",
       "      <td>15</td>\n",
       "    </tr>\n",
       "    <tr>\n",
       "      <th>1</th>\n",
       "      <td>angkot</td>\n",
       "      <td>8</td>\n",
       "      <td>52</td>\n",
       "      <td>3</td>\n",
       "      <td>57</td>\n",
       "      <td>254</td>\n",
       "    </tr>\n",
       "    <tr>\n",
       "      <th>2</th>\n",
       "      <td>rendang</td>\n",
       "      <td>7</td>\n",
       "      <td>27</td>\n",
       "      <td>9</td>\n",
       "      <td>4</td>\n",
       "      <td>32</td>\n",
       "    </tr>\n",
       "    <tr>\n",
       "      <th>3</th>\n",
       "      <td>tempe</td>\n",
       "      <td>2</td>\n",
       "      <td>101</td>\n",
       "      <td>45</td>\n",
       "      <td>29</td>\n",
       "      <td>31</td>\n",
       "    </tr>\n",
       "    <tr>\n",
       "      <th>4</th>\n",
       "      <td>tahu</td>\n",
       "      <td>32</td>\n",
       "      <td>117</td>\n",
       "      <td>87</td>\n",
       "      <td>127</td>\n",
       "      <td>128</td>\n",
       "    </tr>\n",
       "    <tr>\n",
       "      <th>5</th>\n",
       "      <td>doa</td>\n",
       "      <td>11</td>\n",
       "      <td>5</td>\n",
       "      <td>3</td>\n",
       "      <td>102</td>\n",
       "      <td>82</td>\n",
       "    </tr>\n",
       "    <tr>\n",
       "      <th>6</th>\n",
       "      <td>ibadah</td>\n",
       "      <td>33</td>\n",
       "      <td>195</td>\n",
       "      <td>32</td>\n",
       "      <td>139</td>\n",
       "      <td>240</td>\n",
       "    </tr>\n",
       "    <tr>\n",
       "      <th>7</th>\n",
       "      <td>ojol</td>\n",
       "      <td>0</td>\n",
       "      <td>6</td>\n",
       "      <td>0</td>\n",
       "      <td>0</td>\n",
       "      <td>16</td>\n",
       "    </tr>\n",
       "    <tr>\n",
       "      <th>8</th>\n",
       "      <td>alay</td>\n",
       "      <td>0</td>\n",
       "      <td>2</td>\n",
       "      <td>3</td>\n",
       "      <td>9</td>\n",
       "      <td>1</td>\n",
       "    </tr>\n",
       "    <tr>\n",
       "      <th>9</th>\n",
       "      <td>gojek</td>\n",
       "      <td>12</td>\n",
       "      <td>15</td>\n",
       "      <td>15</td>\n",
       "      <td>4</td>\n",
       "      <td>17</td>\n",
       "    </tr>\n",
       "    <tr>\n",
       "      <th>10</th>\n",
       "      <td>jamu</td>\n",
       "      <td>0</td>\n",
       "      <td>61</td>\n",
       "      <td>0</td>\n",
       "      <td>16</td>\n",
       "      <td>73</td>\n",
       "    </tr>\n",
       "    <tr>\n",
       "      <th>11</th>\n",
       "      <td>gaib</td>\n",
       "      <td>0</td>\n",
       "      <td>46</td>\n",
       "      <td>1</td>\n",
       "      <td>13</td>\n",
       "      <td>18</td>\n",
       "    </tr>\n",
       "    <tr>\n",
       "      <th>12</th>\n",
       "      <td>santun</td>\n",
       "      <td>0</td>\n",
       "      <td>9</td>\n",
       "      <td>5</td>\n",
       "      <td>11</td>\n",
       "      <td>14</td>\n",
       "    </tr>\n",
       "    <tr>\n",
       "      <th>13</th>\n",
       "      <td>bule</td>\n",
       "      <td>1</td>\n",
       "      <td>5</td>\n",
       "      <td>8</td>\n",
       "      <td>1</td>\n",
       "      <td>9</td>\n",
       "    </tr>\n",
       "    <tr>\n",
       "      <th>14</th>\n",
       "      <td>alhamdulilah</td>\n",
       "      <td>0</td>\n",
       "      <td>1</td>\n",
       "      <td>6</td>\n",
       "      <td>2</td>\n",
       "      <td>24</td>\n",
       "    </tr>\n",
       "    <tr>\n",
       "      <th>15</th>\n",
       "      <td>insyaallah</td>\n",
       "      <td>0</td>\n",
       "      <td>1</td>\n",
       "      <td>12</td>\n",
       "      <td>17</td>\n",
       "      <td>8</td>\n",
       "    </tr>\n",
       "    <tr>\n",
       "      <th>16</th>\n",
       "      <td>korupsi</td>\n",
       "      <td>4</td>\n",
       "      <td>76</td>\n",
       "      <td>12</td>\n",
       "      <td>21</td>\n",
       "      <td>46</td>\n",
       "    </tr>\n",
       "    <tr>\n",
       "      <th>17</th>\n",
       "      <td>gule</td>\n",
       "      <td>0</td>\n",
       "      <td>8</td>\n",
       "      <td>32</td>\n",
       "      <td>0</td>\n",
       "      <td>2</td>\n",
       "    </tr>\n",
       "    <tr>\n",
       "      <th>18</th>\n",
       "      <td>soto</td>\n",
       "      <td>5</td>\n",
       "      <td>98</td>\n",
       "      <td>54</td>\n",
       "      <td>68</td>\n",
       "      <td>34</td>\n",
       "    </tr>\n",
       "    <tr>\n",
       "      <th>19</th>\n",
       "      <td>sate</td>\n",
       "      <td>7</td>\n",
       "      <td>69</td>\n",
       "      <td>122</td>\n",
       "      <td>112</td>\n",
       "      <td>91</td>\n",
       "    </tr>\n",
       "  </tbody>\n",
       "</table>\n",
       "</div>"
      ],
      "text/plain": [
       "            word  bug  jav  mad  min  sun\n",
       "0        indomie    0   24    9   12   15\n",
       "1         angkot    8   52    3   57  254\n",
       "2        rendang    7   27    9    4   32\n",
       "3          tempe    2  101   45   29   31\n",
       "4           tahu   32  117   87  127  128\n",
       "5            doa   11    5    3  102   82\n",
       "6         ibadah   33  195   32  139  240\n",
       "7           ojol    0    6    0    0   16\n",
       "8           alay    0    2    3    9    1\n",
       "9          gojek   12   15   15    4   17\n",
       "10          jamu    0   61    0   16   73\n",
       "11          gaib    0   46    1   13   18\n",
       "12        santun    0    9    5   11   14\n",
       "13          bule    1    5    8    1    9\n",
       "14  alhamdulilah    0    1    6    2   24\n",
       "15    insyaallah    0    1   12   17    8\n",
       "16       korupsi    4   76   12   21   46\n",
       "17          gule    0    8   32    0    2\n",
       "18          soto    5   98   54   68   34\n",
       "19          sate    7   69  122  112   91"
      ]
     },
     "execution_count": 235,
     "metadata": {},
     "output_type": "execute_result"
    }
   ],
   "source": [
    "pd.DataFrame(para_data)"
   ]
  },
  {
   "cell_type": "code",
   "execution_count": 236,
   "metadata": {},
   "outputs": [
    {
     "data": {
      "text/html": [
       "<div>\n",
       "<style scoped>\n",
       "    .dataframe tbody tr th:only-of-type {\n",
       "        vertical-align: middle;\n",
       "    }\n",
       "\n",
       "    .dataframe tbody tr th {\n",
       "        vertical-align: top;\n",
       "    }\n",
       "\n",
       "    .dataframe thead th {\n",
       "        text-align: right;\n",
       "    }\n",
       "</style>\n",
       "<table border=\"1\" class=\"dataframe\">\n",
       "  <thead>\n",
       "    <tr style=\"text-align: right;\">\n",
       "      <th></th>\n",
       "      <th>word</th>\n",
       "      <th>jav</th>\n",
       "      <th>mad</th>\n",
       "      <th>min</th>\n",
       "      <th>sun</th>\n",
       "    </tr>\n",
       "  </thead>\n",
       "  <tbody>\n",
       "    <tr>\n",
       "      <th>0</th>\n",
       "      <td>indomie</td>\n",
       "      <td>9</td>\n",
       "      <td>7</td>\n",
       "      <td>11</td>\n",
       "      <td>11</td>\n",
       "    </tr>\n",
       "    <tr>\n",
       "      <th>1</th>\n",
       "      <td>angkot</td>\n",
       "      <td>6</td>\n",
       "      <td>4</td>\n",
       "      <td>6</td>\n",
       "      <td>5</td>\n",
       "    </tr>\n",
       "    <tr>\n",
       "      <th>2</th>\n",
       "      <td>rendang</td>\n",
       "      <td>3</td>\n",
       "      <td>3</td>\n",
       "      <td>0</td>\n",
       "      <td>3</td>\n",
       "    </tr>\n",
       "    <tr>\n",
       "      <th>3</th>\n",
       "      <td>tempe</td>\n",
       "      <td>3</td>\n",
       "      <td>2</td>\n",
       "      <td>2</td>\n",
       "      <td>3</td>\n",
       "    </tr>\n",
       "    <tr>\n",
       "      <th>4</th>\n",
       "      <td>tahu</td>\n",
       "      <td>28</td>\n",
       "      <td>6</td>\n",
       "      <td>26</td>\n",
       "      <td>6</td>\n",
       "    </tr>\n",
       "    <tr>\n",
       "      <th>5</th>\n",
       "      <td>doa</td>\n",
       "      <td>1</td>\n",
       "      <td>12</td>\n",
       "      <td>47</td>\n",
       "      <td>36</td>\n",
       "    </tr>\n",
       "    <tr>\n",
       "      <th>6</th>\n",
       "      <td>ibadah</td>\n",
       "      <td>12</td>\n",
       "      <td>2</td>\n",
       "      <td>15</td>\n",
       "      <td>16</td>\n",
       "    </tr>\n",
       "    <tr>\n",
       "      <th>7</th>\n",
       "      <td>ojol</td>\n",
       "      <td>5</td>\n",
       "      <td>4</td>\n",
       "      <td>6</td>\n",
       "      <td>5</td>\n",
       "    </tr>\n",
       "    <tr>\n",
       "      <th>8</th>\n",
       "      <td>alay</td>\n",
       "      <td>9</td>\n",
       "      <td>9</td>\n",
       "      <td>11</td>\n",
       "      <td>7</td>\n",
       "    </tr>\n",
       "    <tr>\n",
       "      <th>9</th>\n",
       "      <td>gojek</td>\n",
       "      <td>15</td>\n",
       "      <td>13</td>\n",
       "      <td>15</td>\n",
       "      <td>14</td>\n",
       "    </tr>\n",
       "    <tr>\n",
       "      <th>10</th>\n",
       "      <td>jamu</td>\n",
       "      <td>1</td>\n",
       "      <td>0</td>\n",
       "      <td>1</td>\n",
       "      <td>0</td>\n",
       "    </tr>\n",
       "    <tr>\n",
       "      <th>11</th>\n",
       "      <td>gaib</td>\n",
       "      <td>3</td>\n",
       "      <td>2</td>\n",
       "      <td>1</td>\n",
       "      <td>2</td>\n",
       "    </tr>\n",
       "    <tr>\n",
       "      <th>12</th>\n",
       "      <td>santun</td>\n",
       "      <td>2</td>\n",
       "      <td>0</td>\n",
       "      <td>2</td>\n",
       "      <td>3</td>\n",
       "    </tr>\n",
       "    <tr>\n",
       "      <th>13</th>\n",
       "      <td>bule</td>\n",
       "      <td>9</td>\n",
       "      <td>8</td>\n",
       "      <td>16</td>\n",
       "      <td>15</td>\n",
       "    </tr>\n",
       "    <tr>\n",
       "      <th>14</th>\n",
       "      <td>alhamdulilah</td>\n",
       "      <td>2</td>\n",
       "      <td>4</td>\n",
       "      <td>2</td>\n",
       "      <td>14</td>\n",
       "    </tr>\n",
       "    <tr>\n",
       "      <th>15</th>\n",
       "      <td>insyaallah</td>\n",
       "      <td>4</td>\n",
       "      <td>4</td>\n",
       "      <td>2</td>\n",
       "      <td>1</td>\n",
       "    </tr>\n",
       "    <tr>\n",
       "      <th>16</th>\n",
       "      <td>korupsi</td>\n",
       "      <td>33</td>\n",
       "      <td>33</td>\n",
       "      <td>29</td>\n",
       "      <td>29</td>\n",
       "    </tr>\n",
       "    <tr>\n",
       "      <th>17</th>\n",
       "      <td>gule</td>\n",
       "      <td>0</td>\n",
       "      <td>0</td>\n",
       "      <td>0</td>\n",
       "      <td>0</td>\n",
       "    </tr>\n",
       "    <tr>\n",
       "      <th>18</th>\n",
       "      <td>soto</td>\n",
       "      <td>1</td>\n",
       "      <td>1</td>\n",
       "      <td>1</td>\n",
       "      <td>1</td>\n",
       "    </tr>\n",
       "    <tr>\n",
       "      <th>19</th>\n",
       "      <td>sate</td>\n",
       "      <td>3</td>\n",
       "      <td>3</td>\n",
       "      <td>3</td>\n",
       "      <td>3</td>\n",
       "    </tr>\n",
       "  </tbody>\n",
       "</table>\n",
       "</div>"
      ],
      "text/plain": [
       "            word  jav  mad  min  sun\n",
       "0        indomie    9    7   11   11\n",
       "1         angkot    6    4    6    5\n",
       "2        rendang    3    3    0    3\n",
       "3          tempe    3    2    2    3\n",
       "4           tahu   28    6   26    6\n",
       "5            doa    1   12   47   36\n",
       "6         ibadah   12    2   15   16\n",
       "7           ojol    5    4    6    5\n",
       "8           alay    9    9   11    7\n",
       "9          gojek   15   13   15   14\n",
       "10          jamu    1    0    1    0\n",
       "11          gaib    3    2    1    2\n",
       "12        santun    2    0    2    3\n",
       "13          bule    9    8   16   15\n",
       "14  alhamdulilah    2    4    2   14\n",
       "15    insyaallah    4    4    2    1\n",
       "16       korupsi   33   33   29   29\n",
       "17          gule    0    0    0    0\n",
       "18          soto    1    1    1    1\n",
       "19          sate    3    3    3    3"
      ]
     },
     "execution_count": 236,
     "metadata": {},
     "output_type": "execute_result"
    }
   ],
   "source": [
    "pd.DataFrame(mt_data)"
   ]
  },
  {
   "cell_type": "code",
   "execution_count": 237,
   "metadata": {},
   "outputs": [],
   "source": [
    "pd.DataFrame(wiki_data).to_csv('wiki_common.csv', index=False)"
   ]
  },
  {
   "cell_type": "code",
   "execution_count": 238,
   "metadata": {},
   "outputs": [],
   "source": [
    "pd.DataFrame(para_data).to_csv('para_common.csv', index=False)"
   ]
  },
  {
   "cell_type": "code",
   "execution_count": 239,
   "metadata": {},
   "outputs": [],
   "source": [
    "pd.DataFrame(mt_data).to_csv('mt_common.csv', index=False)"
   ]
  },
  {
   "cell_type": "markdown",
   "metadata": {},
   "source": [
    "# Lexical Diversity"
   ]
  },
  {
   "cell_type": "code",
   "execution_count": 48,
   "metadata": {},
   "outputs": [
    {
     "name": "stdout",
     "output_type": "stream",
     "text": [
      "Running On Wikipedia\n",
      "== jav ==\n",
      "WIKI: 0.8770643948054657 68.1535211554773 0.018800924337848423 0.8818755553851829 0.8798791771630815\n",
      "PARA: 0.8893802893316376 62.550863690913225 0.021392573223002996 0.8794541265391201 0.887571201987059\n",
      "MT: 0.9153986876852744 92.18846804381735 0.011737639116165089 0.9155835205906315 0.913349573395385\n",
      "Running On Wikipedia\n",
      "Running On Paragraph\n",
      "Running On MT\n",
      "== mad ==\n",
      "WIKI: 0.8867065172883336 89.46325483913797 0.01461384815239539 0.9053390097531582 0.8851669432447673\n",
      "PARA: 0.9077131181144935 78.25656188698593 0.018553149951451076 0.900285721030389 0.9063579485398714\n",
      "MT: 0.9113144673306145 88.60186707467294 0.012359094916752864 0.9112207169901037 0.91011012252042\n",
      "Running On Wikipedia\n",
      "Running On Paragraph\n",
      "Running On MT\n",
      "== bug ==\n",
      "WIKI: 0.8025172093314292 51.02237303259746 0.02666852624042112 0.8073381572675332 0.8232195875373821\n",
      "PARA: 0.90198554467218 82.78228985188375 0.017448242734691838 0.8963594027872709 0.8999351785714286\n",
      "Running On Wikipedia\n",
      "Running On Paragraph\n",
      "Running On MT\n",
      "== min ==\n",
      "WIKI: 0.9346951572627828 89.5601696092024 0.011843944243683359 0.9211582735675593 0.9231144221384834\n",
      "PARA: 0.9063460590367063 78.58110590660242 0.018383250620564597 0.8996266605959125 0.9047705061099578\n",
      "MT: 0.9109823365895461 89.63550982229371 0.012259036405753041 0.9118589721166855 0.9094445235383446\n",
      "Running On Wikipedia\n",
      "Running On Paragraph\n",
      "Running On MT\n",
      "== sun ==\n",
      "WIKI: 0.9113387836041631 74.85608594348213 0.01684790543462043 0.8892273829602992 0.9022421833377625\n",
      "PARA: 0.9096169406793658 85.59911560109647 0.017578251363307696 0.9057675676567516 0.9081058346200622\n",
      "MT: 0.9101912614867678 87.93074852891844 0.012532285707630519 0.9095875806605 0.9071161210032549\n"
     ]
    }
   ],
   "source": [
    "from lexicalrichness import LexicalRichness\n",
    "\n",
    "for lang in ['jav', 'mad', 'bug', 'min', 'sun']:\n",
    "    # Clean Text\n",
    "    replacement_rules = str.maketrans('', '', string.punctuation + '0123456789')\n",
    "    wiki_dsets[lang]['clean_text'] = wiki_dsets[lang]['text'].apply(lambda x: x.lower().translate(replacement_rules).replace('\\n',' '))\n",
    "    if lang in paragraph_dsets:\n",
    "        paragraph_dsets[lang]['clean_text'] = paragraph_dsets[lang]['text'].apply(lambda x: x.lower().translate(replacement_rules).replace('\\n',' '))\n",
    "    if lang in mt_dsets:\n",
    "        mt_dsets[lang]['clean_text'] = mt_dsets[lang]['text'].apply(lambda x: x.lower().translate(replacement_rules).replace('\\n',' '))\n",
    "\n",
    "    print('Running On Wikipedia')\n",
    "    mattrs, mtlds, maass, hdds, msttrs = [], [], [], [], []\n",
    "    for i, text in enumerate(wiki_dsets[lang]['clean_text']):\n",
    "        lex = LexicalRichness(text)\n",
    "        if len(list(filter(lambda x: len(x) > 1, text.strip().split(' ')))) >= 25:\n",
    "            mattrs.append(lex.mattr(window_size=20))\n",
    "            mtlds.append(lex.mtld(threshold=0.72))\n",
    "            maass.append(lex.Maas)\n",
    "            hdds.append(lex.hdd(draws=20))\n",
    "            # vocds.append(lex.vocd(ntokens=50, within_sample=100, iterations=3))\n",
    "            msttrs.append(lex.msttr(segment_window=20))\n",
    "        else:\n",
    "            mattrs.append(np.nan)\n",
    "            mtlds.append(np.nan)\n",
    "            maass.append(np.nan)\n",
    "            hdds.append(np.nan)\n",
    "            msttrs.append(np.nan)\n",
    "    wiki_dsets[lang]['mattr'] = mattrs\n",
    "    wiki_dsets[lang]['mtld'] = mtlds\n",
    "    wiki_dsets[lang]['maas'] = maass\n",
    "    wiki_dsets[lang]['hdd'] = hdds\n",
    "    wiki_dsets[lang]['msttr'] = msttrs\n",
    "        \n",
    "    if lang != 'jav':\n",
    "        print('Running On Paragraph')\n",
    "        if lang in paragraph_dsets:\n",
    "            mattrs, mtlds, maass, hdds, msttrs = [], [], [], [], []\n",
    "            for i, text in enumerate(paragraph_dsets[lang]['clean_text']):\n",
    "                lex = LexicalRichness(text)\n",
    "                if len(list(filter(lambda x: len(x) > 1, text.strip().split(' ')))) >= 25:\n",
    "                    mattrs.append(lex.mattr(window_size=20))\n",
    "                    mtlds.append(lex.mtld(threshold=0.72))\n",
    "                    maass.append(lex.Maas)\n",
    "                    hdds.append(lex.hdd(draws=20))\n",
    "                    msttrs.append(lex.msttr(segment_window=20))\n",
    "                else:\n",
    "                    mattrs.append(np.nan)\n",
    "                    mtlds.append(np.nan)\n",
    "                    maass.append(np.nan)\n",
    "                    hdds.append(np.nan)\n",
    "                    msttrs.append(np.nan)\n",
    "            paragraph_dsets[lang]['mattr'] = mattrs\n",
    "            paragraph_dsets[lang]['mtld'] = mtlds\n",
    "            paragraph_dsets[lang]['maas'] = maass\n",
    "            paragraph_dsets[lang]['hdd'] = hdds\n",
    "            paragraph_dsets[lang]['msttr'] = msttrs\n",
    "\n",
    "        print('Running On MT')\n",
    "        if lang in mt_dsets:\n",
    "            mattrs, mtlds, maass, hdds, msttrs = [], [], [], [], []\n",
    "            for i, text in enumerate(mt_dsets[lang]['clean_text']):\n",
    "                lex = LexicalRichness(text)\n",
    "                if len(list(filter(lambda x: len(x) > 1, text.strip().split(' ')))) >= 25:\n",
    "                    mattrs.append(lex.mattr(window_size=20))\n",
    "                    mtlds.append(lex.mtld(threshold=0.72))\n",
    "                    maass.append(lex.Maas)\n",
    "                    hdds.append(lex.hdd(draws=20))\n",
    "                    msttrs.append(lex.msttr(segment_window=20))\n",
    "                else:\n",
    "                    mattrs.append(np.nan)\n",
    "                    mtlds.append(np.nan)\n",
    "                    maass.append(np.nan)\n",
    "                    hdds.append(np.nan)\n",
    "                    msttrs.append(np.nan)\n",
    "            mt_dsets[lang]['mattr'] = mattrs\n",
    "            mt_dsets[lang]['mtld'] = mtlds\n",
    "            mt_dsets[lang]['maas'] = maass\n",
    "            mt_dsets[lang]['hdd'] = hdds\n",
    "            mt_dsets[lang]['msttr'] = msttrs\n",
    "    \n",
    "#     wiki_dsets[lang][['text', 'mattr', 'mtld', 'maas']].to_csv(f'diversity/wiki_{lang}.csv')\n",
    "#     if lang in paragraph_dsets:\n",
    "#         paragraph_dsets[lang][['text', 'mattr', 'mtld', 'maas']].to_csv(f'diversity/para_{lang}.csv')\n",
    "#     if lang in mt_dsets:\n",
    "#         mt_dsets[lang][['text', 'mattr', 'mtld', 'maas']].to_csv(f'diversity/mt_{lang}.csv')\n",
    "    \n",
    "    print(f'== {lang} ==')\n",
    "    print(f'WIKI: {wiki_dsets[lang][\"mattr\"].mean()} {wiki_dsets[lang][\"mtld\"].mean()} {wiki_dsets[lang][\"maas\"].mean()} {wiki_dsets[lang][\"hdd\"].mean()} {wiki_dsets[lang][\"msttr\"].mean()}')\n",
    "    if lang in paragraph_dsets:\n",
    "        print(f'PARA: {paragraph_dsets[lang][\"mattr\"].mean()} {paragraph_dsets[lang][\"mtld\"].mean()} {paragraph_dsets[lang][\"maas\"].mean()} {paragraph_dsets[lang][\"hdd\"].mean()} {paragraph_dsets[lang][\"msttr\"].mean()}')\n",
    "    if lang in mt_dsets:\n",
    "        print(f'MT: {mt_dsets[lang][\"mattr\"].mean()} {mt_dsets[lang][\"mtld\"].mean()} {mt_dsets[lang][\"maas\"].mean()} {mt_dsets[lang][\"hdd\"].mean()} {mt_dsets[lang][\"msttr\"].mean()}')\n",
    "        "
   ]
  },
  {
   "cell_type": "code",
   "execution_count": 49,
   "metadata": {},
   "outputs": [
    {
     "name": "stdout",
     "output_type": "stream",
     "text": [
      "== bug ==\n",
      "WIKI: 0.8025172093314292 51.02237303259746 0.02666852624042112 0.8073381572675332 0.8232195875373821\n",
      "PARA: 0.90198554467218 82.78228985188375 0.017448242734691838 0.8963594027872709 0.8999351785714286\n",
      "== mad ==\n",
      "WIKI: 0.8867065172883336 89.46325483913797 0.01461384815239539 0.9053390097531582 0.8851669432447673\n",
      "PARA: 0.9077131181144935 78.25656188698593 0.018553149951451076 0.900285721030389 0.9063579485398714\n",
      "MT: 0.9113144673306145 88.60186707467294 0.012359094916752864 0.9112207169901037 0.91011012252042\n",
      "== jav ==\n",
      "WIKI: 0.8770643948054657 68.1535211554773 0.018800924337848423 0.8818755553851829 0.8798791771630815\n",
      "PARA: 0.8893802893316376 62.550863690913225 0.021392573223002996 0.8794541265391201 0.887571201987059\n",
      "MT: 0.9153986876852744 92.18846804381735 0.011737639116165089 0.9155835205906315 0.913349573395385\n",
      "== min ==\n",
      "WIKI: 0.9346951572627828 89.5601696092024 0.011843944243683359 0.9211582735675593 0.9231144221384834\n",
      "PARA: 0.9063460590367063 78.58110590660242 0.018383250620564597 0.8996266605959125 0.9047705061099578\n",
      "MT: 0.9109823365895461 89.63550982229371 0.012259036405753041 0.9118589721166855 0.9094445235383446\n",
      "== sun ==\n",
      "WIKI: 0.9113387836041631 74.85608594348213 0.01684790543462043 0.8892273829602992 0.9022421833377625\n",
      "PARA: 0.9096169406793658 85.59911560109647 0.017578251363307696 0.9057675676567516 0.9081058346200622\n",
      "MT: 0.9101912614867678 87.93074852891844 0.012532285707630519 0.9095875806605 0.9071161210032549\n"
     ]
    }
   ],
   "source": [
    "for lang in ['bug', 'mad', 'jav', 'min', 'sun']:\n",
    "    print(f'== {lang} ==')\n",
    "    print(f'WIKI: {wiki_dsets[lang][\"mattr\"].mean()} {wiki_dsets[lang][\"mtld\"].mean()} {wiki_dsets[lang][\"maas\"].mean()} {wiki_dsets[lang][\"hdd\"].mean()} {wiki_dsets[lang][\"msttr\"].mean()}')\n",
    "    if lang in paragraph_dsets:\n",
    "        print(f'PARA: {paragraph_dsets[lang][\"mattr\"].mean()} {paragraph_dsets[lang][\"mtld\"].mean()} {paragraph_dsets[lang][\"maas\"].mean()} {paragraph_dsets[lang][\"hdd\"].mean()} {paragraph_dsets[lang][\"msttr\"].mean()}')\n",
    "    if lang in mt_dsets:\n",
    "        print(f'MT: {mt_dsets[lang][\"mattr\"].mean()} {mt_dsets[lang][\"mtld\"].mean()} {mt_dsets[lang][\"maas\"].mean()} {mt_dsets[lang][\"hdd\"].mean()} {mt_dsets[lang][\"msttr\"].mean()}')"
   ]
  },
  {
   "cell_type": "code",
   "execution_count": 50,
   "metadata": {},
   "outputs": [
    {
     "name": "stdout",
     "output_type": "stream",
     "text": [
      "== bug ==\n",
      "WIKI: 0.798076923076923 28.60677612538577 0.026552829810731517 0.801241125596174 0.85\n",
      "PARA: 0.9051178524661724 75.99401102524992 0.01731726241365138 0.8987034675079688 0.9\n",
      "== mad ==\n",
      "WIKI: 0.8988140161725064 67.20860273523544 0.014337578918395131 0.9105786982309678 0.9\n",
      "PARA: 0.9112244897959195 73.29579525503084 0.0183536821752621 0.9029199023029529 0.9099999999999999\n",
      "MT: 0.9222222222222223 71.48752709577528 0.011117123943966505 0.9217503217503209 0.925\n",
      "== jav ==\n",
      "WIKI: 0.8917724203089938 58.936399932042136 0.017942453849145175 0.8974366571235914 0.8926198257080609\n",
      "PARA: 0.8933734939759037 58.154803379203855 0.02105534115542086 0.8839220409108955 0.89\n",
      "MT: 0.9262531328320802 72.57600000000004 0.010843046712604575 0.9246031746031743 0.925\n",
      "== min ==\n",
      "WIKI: 0.9423076923076922 80.86400000000003 0.011127399755762301 0.9242495309568486 0.925\n",
      "PARA: 0.9095916666666675 73.36580305173143 0.01818511374491436 0.9024878767852461 0.9099999999999999\n",
      "MT: 0.9215838509316774 68.72444444444443 0.011117123943966505 0.9217090010315492 0.925\n",
      "== sun ==\n",
      "WIKI: 0.9447368421052632 70.1199043519847 0.013500000229674274 0.9025917506228567 0.9166666666666666\n",
      "PARA: 0.9128981537837302 79.89629452512722 0.017319486696368736 0.9085187111024309 0.9099999999999999\n",
      "MT: 0.9214285714285715 68.72444444444443 0.011134675708470104 0.9194580259797652 0.925\n"
     ]
    }
   ],
   "source": [
    "for lang in ['bug', 'mad', 'jav', 'min', 'sun']:\n",
    "    print(f'== {lang} ==')\n",
    "    print(f'WIKI: {wiki_dsets[lang][\"mattr\"].median()} {wiki_dsets[lang][\"mtld\"].median()} {wiki_dsets[lang][\"maas\"].median()} {wiki_dsets[lang][\"hdd\"].median()} {wiki_dsets[lang][\"msttr\"].median()}')\n",
    "    if lang in paragraph_dsets:\n",
    "        print(f'PARA: {paragraph_dsets[lang][\"mattr\"].median()} {paragraph_dsets[lang][\"mtld\"].median()} {paragraph_dsets[lang][\"maas\"].median()} {paragraph_dsets[lang][\"hdd\"].median()} {paragraph_dsets[lang][\"msttr\"].median()}')\n",
    "    if lang in mt_dsets:\n",
    "        print(f'MT: {mt_dsets[lang][\"mattr\"].median()} {mt_dsets[lang][\"mtld\"].median()} {mt_dsets[lang][\"maas\"].median()} {mt_dsets[lang][\"hdd\"].median()} {mt_dsets[lang][\"msttr\"].median()}')"
   ]
  },
  {
   "cell_type": "code",
   "execution_count": null,
   "metadata": {},
   "outputs": [
    {
     "name": "stdout",
     "output_type": "stream",
     "text": [
      "== bug ==\n",
      "WIKI: 0.8025172093314292 51.02237303259746 0.02666852624042112 0.8073381572675332 0.8232195875373821\n",
      "== mad ==\n",
      "WIKI: 0.8867065172883336 89.46325483913797 0.01461384815239539 0.9053390097531582 0.8851669432447673\n",
      "== jav ==\n",
      "WIKI: 0.8770643948054657 68.1535211554773 0.018800924337848423 0.8818755553851829 0.8798791771630815\n",
      "== min ==\n",
      "WIKI: 0.9346951572627828 89.5601696092024 0.011843944243683359 0.9211582735675593 0.9231144221384834\n",
      "== sun ==\n",
      "WIKI: 0.9113387836041631 74.85608594348213 0.01684790543462043 0.8892273829602992 0.9022421833377625\n",
      "== map-bms ==\n",
      "WIKI: 0.8661854005731374 70.76320693550588 0.019062702037850775 0.8789127996416582 0.8617453113836908\n",
      "== ace ==\n",
      "WIKI: 0.7787468003710114 30.653040031302027 0.03446295026505121 0.7591176274019195 0.8017896065652931\n"
     ]
    }
   ],
   "source": [
    "from lexicalrichness import LexicalRichness\n",
    "\n",
    "for lang in list(wiki_dsets.keys()):\n",
    "    # Clean Text\n",
    "    replacement_rules = str.maketrans('', '', string.punctuation + '0123456789')\n",
    "    wiki_dsets[lang]['clean_text'] = wiki_dsets[lang]['text'].apply(lambda x: x.lower().translate(replacement_rules).replace('\\n',' '))\n",
    "    if lang in paragraph_dsets:\n",
    "        paragraph_dsets[lang]['clean_text'] = paragraph_dsets[lang]['text'].apply(lambda x: x.lower().translate(replacement_rules).replace('\\n',' '))\n",
    "    if lang in mt_dsets:\n",
    "        mt_dsets[lang]['clean_text'] = mt_dsets[lang]['text'].apply(lambda x: x.lower().translate(replacement_rules).replace('\\n',' '))\n",
    "\n",
    "    mattrs, mtlds, maass, hdds, msttrs = [], [], [], [], []\n",
    "    for i, text in enumerate(wiki_dsets[lang]['clean_text']):\n",
    "        lex = LexicalRichness(text)\n",
    "        if len(list(filter(lambda x: len(x) > 1, text.strip().split(' ')))) >= 25:\n",
    "            mattrs.append(lex.mattr(window_size=20))\n",
    "            mtlds.append(lex.mtld(threshold=0.72))\n",
    "            maass.append(lex.Maas)\n",
    "            hdds.append(lex.hdd(draws=20))\n",
    "            # vocds.append(lex.vocd(ntokens=25, within_sample=100, iterations=3))\n",
    "            msttrs.append(lex.msttr(segment_window=20))\n",
    "        else:\n",
    "            mattrs.append(np.nan)\n",
    "            mtlds.append(np.nan)\n",
    "            maass.append(np.nan)\n",
    "            hdds.append(np.nan)\n",
    "            msttrs.append(np.nan)\n",
    "    wiki_dsets[lang]['mattr'] = mattrs\n",
    "    wiki_dsets[lang]['mtld'] = mtlds\n",
    "    wiki_dsets[lang]['maas'] = maass\n",
    "    wiki_dsets[lang]['hdd'] = hdds\n",
    "    wiki_dsets[lang]['msttr'] = msttrs\n",
    "    \n",
    "    print(f'== {lang} ==')\n",
    "    print(f'WIKI: {wiki_dsets[lang][\"mattr\"].mean()} {wiki_dsets[lang][\"mtld\"].mean()} {wiki_dsets[lang][\"maas\"].mean()} {wiki_dsets[lang][\"hdd\"].mean()} {wiki_dsets[lang][\"msttr\"].mean()}')"
   ]
  },
  {
   "cell_type": "code",
   "execution_count": 58,
   "metadata": {},
   "outputs": [
    {
     "name": "stdout",
     "output_type": "stream",
     "text": [
      "bug WIKI 15866 0.8025172093314292 51.02237303259746 0.02666852624042112 0.8073381572675332 0.8232195875373821\n",
      "mad WIKI 1002 0.8867065172883336 89.46325483913797 0.01461384815239539 0.9053390097531582 0.8851669432447673\n",
      "jav WIKI 72737 0.8770643948054657 68.1535211554773 0.018800924337848423 0.8818755553851829 0.8798791771630815\n",
      "min WIKI 226237 0.9346951572627828 89.5601696092024 0.011843944243683359 0.9211582735675593 0.9231144221384834\n",
      "sun WIKI 61331 0.9113387836041631 74.85608594348213 0.01684790543462043 0.8892273829602992 0.9022421833377625\n",
      "map-bms WIKI 13575 0.8661854005731374 70.76320693550588 0.019062702037850775 0.8789127996416582 0.8617453113836908\n",
      "ace WIKI 12829 0.7787468003710114 30.653040031302027 0.03446295026505121 0.7591176274019195 0.8017896065652931\n",
      "gor WIKI 14389 0.6940185419158188 37.225365925589436 0.042645348260039385 0.7135722061881534 0.8202527344064151\n",
      "ban WIKI 17161 0.8515263409214967 53.8335470548051 0.021629884329270658 0.865722282832719 0.8650753408056899\n",
      "bjn WIKI 10122 0.8726883575520812 83.56524004355468 0.01853124183418452 0.8820441065971484 0.867875776617603\n",
      "nia WIKI 1620 0.8475030221256692 68.84886849217023 0.021214668768093307 0.8632540219703946 0.8472916613516343\n",
      "ind WIKI 633703 0.8987789313583968 83.81833923821242 0.01722899256816845 0.901059633718551 0.8991739820639923\n"
     ]
    }
   ],
   "source": [
    "from lexicalrichness import LexicalRichness\n",
    "\n",
    "for lang in list(wiki_dsets.keys()):\n",
    "    print(f'{lang} WIKI {len(wiki_dsets[lang])} {wiki_dsets[lang][\"mattr\"].mean()} {wiki_dsets[lang][\"mtld\"].mean()} {wiki_dsets[lang][\"maas\"].mean()} {wiki_dsets[lang][\"hdd\"].mean()} {wiki_dsets[lang][\"msttr\"].mean()}')"
   ]
  },
  {
   "cell_type": "code",
   "execution_count": null,
   "metadata": {},
   "outputs": [],
   "source": []
  }
 ],
 "metadata": {
  "kernelspec": {
   "display_name": "Python (env_instruct_align)",
   "language": "python",
   "name": "env-instruct-align"
  },
  "language_info": {
   "codemirror_mode": {
    "name": "ipython",
    "version": 3
   },
   "file_extension": ".py",
   "mimetype": "text/x-python",
   "name": "python",
   "nbconvert_exporter": "python",
   "pygments_lexer": "ipython3",
   "version": "3.10.4"
  }
 },
 "nbformat": 4,
 "nbformat_minor": 4
}
